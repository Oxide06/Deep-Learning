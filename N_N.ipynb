{
 "cells": [
  {
   "cell_type": "code",
   "execution_count": 2,
   "id": "e6caf4cf-242c-46e9-994f-9179bbcf2b39",
   "metadata": {
    "scrolled": true
   },
   "outputs": [
    {
     "name": "stdout",
     "output_type": "stream",
     "text": [
      "Requirement already satisfied: h5py in c:\\users\\ashok\\appdata\\local\\packages\\pythonsoftwarefoundation.python.3.9_qbz5n2kfra8p0\\localcache\\local-packages\\python39\\site-packages (3.12.1)\n",
      "Requirement already satisfied: numpy>=1.19.3 in c:\\users\\ashok\\appdata\\local\\packages\\pythonsoftwarefoundation.python.3.9_qbz5n2kfra8p0\\localcache\\local-packages\\python39\\site-packages (from h5py) (2.0.2)\n",
      "Note: you may need to restart the kernel to use updated packages.\n"
     ]
    },
    {
     "name": "stderr",
     "output_type": "stream",
     "text": [
      "\n",
      "[notice] A new release of pip is available: 24.3.1 -> 25.0\n",
      "[notice] To update, run: C:\\Users\\ashok\\AppData\\Local\\Microsoft\\WindowsApps\\PythonSoftwareFoundation.Python.3.9_qbz5n2kfra8p0\\python.exe -m pip install --upgrade pip\n"
     ]
    }
   ],
   "source": [
    "pip install --upgrade h5py"
   ]
  },
  {
   "cell_type": "code",
   "execution_count": 76,
   "id": "2a344159-b1b0-47e9-aeea-8e7440b8191c",
   "metadata": {},
   "outputs": [],
   "source": [
    "import numpy as np\n",
    "import matplotlib.pyplot as plt\n",
    "import sklearn\n",
    "from sklearn.datasets import load_iris\n",
    "import pandas as pd\n",
    "import h5py\n",
    "from PIL import Image\n",
    "from scipy import ndimage\n",
    "import copy\n",
    "np.random.seed(1)"
   ]
  },
  {
   "cell_type": "code",
   "execution_count": null,
   "id": "33a04c85-4dff-4be7-9f68-6f3b9355d92e",
   "metadata": {},
   "outputs": [],
   "source": [
    "def initialize_parameters_deep(layer_dims):\n",
    "    \n",
    "    np.random.seed(3)\n",
    "    parameters = {}\n",
    "    L = len(layer_dims) # number of layers in the network\n",
    "\n",
    "    for l in range(1, L):\n",
    "        parameters['W'+str(l)]=np.random.randn(layer_dims[l],layer_dims[l-1])*0.001\n",
    "        parameters['b'+str(l)]=np.zeros((layer_dims[l],1))\n",
    "        \n",
    "        assert(parameters['W' + str(l)].shape == (layer_dims[l], layer_dims[l - 1]))\n",
    "        assert(parameters['b' + str(l)].shape == (layer_dims[l], 1))\n",
    "\n",
    "        \n",
    "    return parameters"
   ]
  },
  {
   "cell_type": "code",
   "execution_count": 3,
   "id": "b5cf1b02-5dd6-4f73-9fbe-280bb83b0f10",
   "metadata": {},
   "outputs": [],
   "source": [
    "def linear_forward(A, W, b):\n",
    "    Z=np.dot(W,A)+b\n",
    "    cache = (A, W, b)\n",
    "    \n",
    "    return Z, cache"
   ]
  },
  {
   "cell_type": "code",
   "execution_count": 4,
   "id": "a2b2e932-00da-4221-976d-6eb9f2e64e64",
   "metadata": {},
   "outputs": [],
   "source": [
    "def sigmoid(z):\n",
    "    s=1/(1+np.exp(-z))\n",
    "    cache=z\n",
    "    return s,cache"
   ]
  },
  {
   "cell_type": "code",
   "execution_count": 5,
   "id": "71baca4a-4403-4dc7-a996-388db65756d3",
   "metadata": {},
   "outputs": [],
   "source": [
    "def relu(z):\n",
    "    cache=z\n",
    "    r=np.maximum(0,z)\n",
    "    return r,cache"
   ]
  },
  {
   "cell_type": "code",
   "execution_count": null,
   "id": "425c7ed9-12fa-4212-a040-6c8d5d1a638d",
   "metadata": {},
   "outputs": [],
   "source": [
    "def linear_activation_forward(A_prev, W, b, activation):\n",
    "    \n",
    "    if activation == \"sigmoid\":\n",
    "        Z, linear_cache=linear_forward(A_prev,W,b)\n",
    "        A, activation_cache=sigmoid(Z)\n",
    "       \n",
    "    \n",
    "    elif activation == \"relu\":\n",
    "       \n",
    "        Z, linear_cache=linear_forward(A_prev,W,b)\n",
    "        A, activation_cache=relu(Z)\n",
    "\n",
    "    cache = (linear_cache, activation_cache)\n",
    "\n",
    "    return A, cache"
   ]
  },
  {
   "cell_type": "code",
   "execution_count": null,
   "id": "4a82b036-4eaa-4ae4-9031-ef601c36c0a0",
   "metadata": {},
   "outputs": [],
   "source": [
    "def L_model_forward(X, parameters):\n",
    " \n",
    "    caches = []\n",
    "    A = X\n",
    "    L = len(parameters) // 2                 \n",
    "    for l in range(1, L):\n",
    "        A_prev = A \n",
    "        A, cache=linear_activation_forward(A_prev,parameters['W'+str(l)],parameters['b'+str(l)],activation=\"relu\")\n",
    "        caches.append(cache)\n",
    "        \n",
    "    AL, cache=linear_activation_forward(A,parameters['W'+str(L)],parameters['b'+str(L)],activation=\"sigmoid\")\n",
    "    caches.append(cache)\n",
    "          \n",
    "    return AL, caches"
   ]
  },
  {
   "cell_type": "code",
   "execution_count": null,
   "id": "237064f6-91f2-484e-be73-ddd63d8bb0a2",
   "metadata": {},
   "outputs": [],
   "source": [
    "def compute_cost(AL, Y):\n",
    "    m = Y.shape[1]\n",
    "    cost= -np.sum(Y*np.log(AL)+(1-Y)*np.log(1-AL))/m\n",
    "    \n",
    "    \n",
    "    cost = np.squeeze(cost)     \n",
    "    \n",
    "    return cost"
   ]
  },
  {
   "cell_type": "code",
   "execution_count": 9,
   "id": "3235b274-fa15-4911-84b2-da436792195d",
   "metadata": {},
   "outputs": [],
   "source": [
    "def linear_backward(dZ, cache):\n",
    "    A_prev, W, b = cache\n",
    "    m = A_prev.shape[1]\n",
    "\n",
    "    dW=np.dot(dZ,cache[0].T)/m\n",
    "    db= np.sum(dZ,axis=1,keepdims=True)/m\n",
    "    dA_prev=np.dot(cache[1].T,dZ)\n",
    "\n",
    "    \n",
    "    return dA_prev, dW, db"
   ]
  },
  {
   "cell_type": "code",
   "execution_count": 69,
   "id": "51dd89dd-6bfa-48eb-9679-4e49703e7186",
   "metadata": {},
   "outputs": [],
   "source": [
    "def sigmoid_backward(dA,act_cache,Y):\n",
    "    Z=act_cache\n",
    "    A= 1/(1+np.exp(-Z))\n",
    "    dZ= dA*A*(1-A)\n",
    "    assert(dZ.shape==Z.shape)\n",
    "    return dZ"
   ]
  },
  {
   "cell_type": "code",
   "execution_count": 11,
   "id": "90f0e7c4-8322-4feb-9f41-a46441e156f4",
   "metadata": {},
   "outputs": [],
   "source": [
    "def relu_backward(dA,act_cache):\n",
    "    Z=act_cache\n",
    "    \n",
    "    dZ = np.array(dA,copy=True)\n",
    "    dZ[Z <= 0] = 0\n",
    "    assert(dZ.shape==Z.shape)\n",
    "    return dZ"
   ]
  },
  {
   "cell_type": "code",
   "execution_count": 12,
   "id": "836fe763-777e-4985-86aa-fc924538013a",
   "metadata": {},
   "outputs": [],
   "source": [
    "def linear_activation_backward(dA, cache, activation,Y):\n",
    "    linear_cache, activation_cache = cache\n",
    "    \n",
    "    if activation == \"relu\":\n",
    "        \n",
    "        dZ=relu_backward(dA,activation_cache)\n",
    "        dA_prev,dW,db=linear_backward(dZ,linear_cache)\n",
    "        \n",
    "    elif activation == \"sigmoid\":\n",
    "        dZ=sigmoid_backward(dA,activation_cache,Y)\n",
    "        dA_prev,dW,db=linear_backward(dZ,linear_cache)\n",
    "    \n",
    "    return dA_prev, dW, db"
   ]
  },
  {
   "cell_type": "code",
   "execution_count": 13,
   "id": "91097d6c-94cc-4495-9d89-5ac5b8f3c800",
   "metadata": {},
   "outputs": [],
   "source": [
    "def L_model_backward(AL, Y, caches):\n",
    "    grads = {}\n",
    "    L = len(caches) # the number of layers\n",
    "    m = AL.shape[1]\n",
    "    Y = Y.reshape(AL.shape) \n",
    "    dAL=-(np.divide(Y,AL)-np.divide(1-Y,1-AL))\n",
    "    current_cache=caches[L-1]\n",
    "    dA_prev_temp,dW_temp,db_temp=linear_activation_backward(dAL,current_cache,'sigmoid',Y)\n",
    "    grads[\"dA\"+str(L-1)]=dA_prev_temp\n",
    "    grads[\"dW\"+str(L)]=dW_temp\n",
    "    grads[\"db\"+str(L)]=db_temp\n",
    "    \n",
    "    # Loop from l=L-2 to l=0\n",
    "    for l in range(L-2,-1,-1):\n",
    "        current_cache=caches[l]\n",
    "        dA_prev_temp,dW_temp,db_temp=linear_activation_backward(grads[\"dA\"+str(l+1)],current_cache,'relu',Y)\n",
    "        grads[\"dA\"+str(l)]=dA_prev_temp\n",
    "        grads[\"dW\"+str(l+1)]=dW_temp\n",
    "        grads[\"db\"+str(l+1)]=db_temp\n",
    "\n",
    "    return grads"
   ]
  },
  {
   "cell_type": "code",
   "execution_count": 14,
   "id": "a80079b8-d645-4f82-a6f4-4bc77647b184",
   "metadata": {},
   "outputs": [],
   "source": [
    "def update_parameters(params, grads, learning_rate):\n",
    "   \n",
    "    parameters = copy.deepcopy(params)\n",
    "    L = len(parameters) // 2 \n",
    "    for l in range(L):\n",
    "        parameters[\"W\"+str(l+1)]= parameters[\"W\"+str(l+1)]-learning_rate*grads[\"dW\"+str(l+1)]\n",
    "        parameters[\"b\"+str(l+1)]= parameters[\"b\"+str(l+1)]-learning_rate*grads[\"db\"+str(l+1)]\n",
    "    return parameters"
   ]
  },
  {
   "cell_type": "code",
   "execution_count": 15,
   "id": "d3c27478-17ac-4777-8d6d-764667967c34",
   "metadata": {},
   "outputs": [],
   "source": [
    "def L_layer_model(X, Y, layers_dims, learning_rate = 0.0075, num_iterations = 2500, print_cost=False):\n",
    "\n",
    "    np.random.seed(1)\n",
    "    costs = []                         \n",
    "    parameters=initialize_parameters_deep(layers_dims)\n",
    "    for i in range(0, num_iterations):\n",
    "        AL,caches=L_model_forward(X,parameters)\n",
    "        cost= compute_cost(AL,Y)\n",
    "        grads=L_model_backward(AL,Y,caches)\n",
    "        parameters=update_parameters(parameters,grads,learning_rate)\n",
    "        if print_cost and i % 100 == 0 or i == num_iterations - 1:\n",
    "            print(\"Cost after iteration {}: {}\".format(i, np.squeeze(cost)))\n",
    "        if i % 100 == 0 or i == num_iterations:\n",
    "            costs.append(cost)\n",
    "    \n",
    "    plt.plot(np.squeeze(costs))\n",
    "    plt.ylabel('cost')\n",
    "    plt.xlabel('iteration')\n",
    "    plt.show()\n",
    "    return parameters, costs"
   ]
  },
  {
   "cell_type": "code",
   "execution_count": 33,
   "id": "18304847-77dc-43f6-9cec-bff7a5deba0d",
   "metadata": {},
   "outputs": [],
   "source": [
    "data=pd.read_csv('mushroom_cleaned.csv')"
   ]
  },
  {
   "cell_type": "code",
   "execution_count": 34,
   "id": "6b93e687-0243-4f20-bf02-e3be060f119d",
   "metadata": {},
   "outputs": [
    {
     "data": {
      "text/html": [
       "<div>\n",
       "<style scoped>\n",
       "    .dataframe tbody tr th:only-of-type {\n",
       "        vertical-align: middle;\n",
       "    }\n",
       "\n",
       "    .dataframe tbody tr th {\n",
       "        vertical-align: top;\n",
       "    }\n",
       "\n",
       "    .dataframe thead th {\n",
       "        text-align: right;\n",
       "    }\n",
       "</style>\n",
       "<table border=\"1\" class=\"dataframe\">\n",
       "  <thead>\n",
       "    <tr style=\"text-align: right;\">\n",
       "      <th></th>\n",
       "      <th>cap-diameter</th>\n",
       "      <th>cap-shape</th>\n",
       "      <th>gill-attachment</th>\n",
       "      <th>gill-color</th>\n",
       "      <th>stem-height</th>\n",
       "      <th>stem-width</th>\n",
       "      <th>stem-color</th>\n",
       "      <th>season</th>\n",
       "      <th>class</th>\n",
       "    </tr>\n",
       "  </thead>\n",
       "  <tbody>\n",
       "    <tr>\n",
       "      <th>0</th>\n",
       "      <td>1372</td>\n",
       "      <td>2</td>\n",
       "      <td>2</td>\n",
       "      <td>10</td>\n",
       "      <td>3.807467</td>\n",
       "      <td>1545</td>\n",
       "      <td>11</td>\n",
       "      <td>1.804273</td>\n",
       "      <td>1</td>\n",
       "    </tr>\n",
       "    <tr>\n",
       "      <th>1</th>\n",
       "      <td>1461</td>\n",
       "      <td>2</td>\n",
       "      <td>2</td>\n",
       "      <td>10</td>\n",
       "      <td>3.807467</td>\n",
       "      <td>1557</td>\n",
       "      <td>11</td>\n",
       "      <td>1.804273</td>\n",
       "      <td>1</td>\n",
       "    </tr>\n",
       "    <tr>\n",
       "      <th>2</th>\n",
       "      <td>1371</td>\n",
       "      <td>2</td>\n",
       "      <td>2</td>\n",
       "      <td>10</td>\n",
       "      <td>3.612496</td>\n",
       "      <td>1566</td>\n",
       "      <td>11</td>\n",
       "      <td>1.804273</td>\n",
       "      <td>1</td>\n",
       "    </tr>\n",
       "    <tr>\n",
       "      <th>3</th>\n",
       "      <td>1261</td>\n",
       "      <td>6</td>\n",
       "      <td>2</td>\n",
       "      <td>10</td>\n",
       "      <td>3.787572</td>\n",
       "      <td>1566</td>\n",
       "      <td>11</td>\n",
       "      <td>1.804273</td>\n",
       "      <td>1</td>\n",
       "    </tr>\n",
       "    <tr>\n",
       "      <th>4</th>\n",
       "      <td>1305</td>\n",
       "      <td>6</td>\n",
       "      <td>2</td>\n",
       "      <td>10</td>\n",
       "      <td>3.711971</td>\n",
       "      <td>1464</td>\n",
       "      <td>11</td>\n",
       "      <td>0.943195</td>\n",
       "      <td>1</td>\n",
       "    </tr>\n",
       "  </tbody>\n",
       "</table>\n",
       "</div>"
      ],
      "text/plain": [
       "   cap-diameter  cap-shape  gill-attachment  gill-color  stem-height  \\\n",
       "0          1372          2                2          10     3.807467   \n",
       "1          1461          2                2          10     3.807467   \n",
       "2          1371          2                2          10     3.612496   \n",
       "3          1261          6                2          10     3.787572   \n",
       "4          1305          6                2          10     3.711971   \n",
       "\n",
       "   stem-width  stem-color    season  class  \n",
       "0        1545          11  1.804273      1  \n",
       "1        1557          11  1.804273      1  \n",
       "2        1566          11  1.804273      1  \n",
       "3        1566          11  1.804273      1  \n",
       "4        1464          11  0.943195      1  "
      ]
     },
     "execution_count": 34,
     "metadata": {},
     "output_type": "execute_result"
    }
   ],
   "source": [
    "data.head()"
   ]
  },
  {
   "cell_type": "code",
   "execution_count": 68,
   "id": "e3c5ebf0-a156-479d-ad23-14cf9dbd9139",
   "metadata": {},
   "outputs": [],
   "source": [
    "from sklearn.model_selection import train_test_split\n",
    "from sklearn.preprocessing import OneHotEncoder\n",
    "enc=OneHotEncoder()\n",
    "X=data.iloc[:,:-1]\n",
    "Y=data.iloc[:,-1]\n",
    "X_train,X_test,Y_train,Y_test=train_test_split(X,Y,test_size=0.2,random_state=42)\n"
   ]
  },
  {
   "cell_type": "code",
   "execution_count": null,
   "id": "36adbbd0-af3f-44e4-8cd5-ff65b2333c4b",
   "metadata": {},
   "outputs": [],
   "source": []
  },
  {
   "cell_type": "code",
   "execution_count": null,
   "id": "7bad0766-4229-428c-93fc-2945f438e678",
   "metadata": {},
   "outputs": [],
   "source": [
    "def load_data():\n",
    "    \n",
    "\n",
    "    train_x_orig = np.array(X_train)  \n",
    "    train_y = np.array(Y_train)  \n",
    "\n",
    "    test_x_orig = np.array(X_test)  \n",
    "    test_y = np.array(Y_test) \n",
    "    train_y = train_y.reshape((1, train_y.shape[0]))  \n",
    "    test_y = test_y.reshape((1, test_y.shape[0]))  \n",
    "\n",
    "    return train_x_orig, train_y, test_x_orig, test_y"
   ]
  },
  {
   "cell_type": "code",
   "execution_count": 47,
   "id": "41ac0a74-0150-466c-a0fb-8fb4724eef49",
   "metadata": {},
   "outputs": [],
   "source": [
    "train_x_orig, train_y, test_x_orig, test_y= load_data()"
   ]
  },
  {
   "cell_type": "code",
   "execution_count": 18,
   "id": "4016c445-3583-46b1-b7e1-f63fe6fb8a0c",
   "metadata": {},
   "outputs": [
    {
     "data": {
      "text/plain": [
       "<matplotlib.image.AxesImage at 0x23d75133c70>"
      ]
     },
     "execution_count": 18,
     "metadata": {},
     "output_type": "execute_result"
    },
    {
     "data": {
      "image/png": "[encoded data removed]",
      "text/plain": [
       "<Figure size 640x480 with 1 Axes>"
      ]
     },
     "metadata": {},
     "output_type": "display_data"
    }
   ],
   "source": []
  },
  {
   "cell_type": "code",
   "execution_count": 48,
   "id": "4ef80515-c16d-4ae7-be19-4f36a7952827",
   "metadata": {},
   "outputs": [
    {
     "name": "stdout",
     "output_type": "stream",
     "text": [
      "Number of training examples: 43228\n",
      "Number of testing examples: 10807\n",
      "Each image is of size: (8, 8, 3)\n",
      "train_x_orig shape: (43228, 8)\n",
      "train_y shape: (1, 43228)\n",
      "test_x_orig shape: (10807, 8)\n",
      "test_y shape: (1, 10807)\n"
     ]
    }
   ],
   "source": [
    "m_train = train_x_orig.shape[0]\n",
    "num_px = train_x_orig.shape[1]\n",
    "m_test = test_x_orig.shape[0]\n",
    "\n",
    "print (\"Number of training examples: \" + str(m_train))\n",
    "print (\"Number of testing examples: \" + str(m_test))\n",
    "print (\"Each image is of size: (\" + str(num_px) + \", \" + str(num_px) + \", 3)\")\n",
    "print (\"train_x_orig shape: \" + str(train_x_orig.shape))\n",
    "print (\"train_y shape: \" + str(train_y.shape))\n",
    "print (\"test_x_orig shape: \" + str(test_x_orig.shape))\n",
    "print (\"test_y shape: \" + str(test_y.shape))"
   ]
  },
  {
   "cell_type": "code",
   "execution_count": null,
   "id": "9ea1f0c2-fc2f-4151-b2f0-19063647f033",
   "metadata": {},
   "outputs": [
    {
     "name": "stdout",
     "output_type": "stream",
     "text": [
      "train_x's shape: (8, 43228)\n",
      "test_x's shape: (8, 10807)\n",
      "43228\n"
     ]
    }
   ],
   "source": [
    "train_x = train_x_orig.reshape(train_x_orig.shape[0], -1).T   \n",
    "test_x= test_x_orig.reshape(test_x_orig.shape[0], -1).T\n",
    "\n"
   ]
  },
  {
   "cell_type": "code",
   "execution_count": 53,
   "id": "5acc3309-be3a-41ea-ab2d-2d56ad852959",
   "metadata": {},
   "outputs": [],
   "source": [
    "layers_dims = [8, 10,7,5, 1]"
   ]
  },
  {
   "cell_type": "code",
   "execution_count": 54,
   "id": "d6a94e67-e5b2-4d29-a951-ff10ae333a5a",
   "metadata": {},
   "outputs": [
    {
     "name": "stdout",
     "output_type": "stream",
     "text": [
      "Cost after iteration 0: 0.6931472916047177\n",
      "Cost after iteration 100: 0.6911749523141909\n",
      "Cost after iteration 200: 0.6899790928289292\n",
      "Cost after iteration 300: 0.6892536130481566\n",
      "Cost after iteration 400: 0.6888132015555647\n",
      "Cost after iteration 500: 0.6885456530183849\n",
      "Cost after iteration 600: 0.6883829998474792\n",
      "Cost after iteration 700: 0.6882840358542683\n",
      "Cost after iteration 800: 0.6882237684459748\n",
      "Cost after iteration 900: 0.6881870215597234\n",
      "Cost after iteration 1000: 0.6881645762184706\n",
      "Cost after iteration 1100: 0.6881508267299596\n",
      "Cost after iteration 1200: 0.6881423637390144\n",
      "Cost after iteration 1300: 0.6881371126852769\n",
      "Cost after iteration 1400: 0.6881338091614301\n",
      "Cost after iteration 1500: 0.6881316792951699\n",
      "Cost after iteration 1600: 0.6881302530428516\n",
      "Cost after iteration 1700: 0.6881292446276495\n",
      "Cost after iteration 1800: 0.6881284744665112\n",
      "Cost after iteration 1900: 0.6881278281517038\n",
      "Cost after iteration 2000: 0.6881272318315965\n",
      "Cost after iteration 2100: 0.6881266351719749\n",
      "Cost after iteration 2200: 0.6881260018522183\n",
      "Cost after iteration 2300: 0.6881253015891053\n",
      "Cost after iteration 2400: 0.6881245058682303\n",
      "Cost after iteration 2499: 0.6881235946522579\n"
     ]
    },
    {
     "data": {
      "image/png": "[encoded data removed]",
      "text/plain": [
       "<Figure size 640x480 with 1 Axes>"
      ]
     },
     "metadata": {},
     "output_type": "display_data"
    }
   ],
   "source": [
    "parameters,cost=L_layer_model(train_x,train_y,layers_dims,0.01,num_iterations=2500\n",
    "                              ,print_cost=True)"
   ]
  },
  {
   "cell_type": "code",
   "execution_count": null,
   "id": "3fdb3dc4-591a-4f35-9459-2486e339ddc6",
   "metadata": {},
   "outputs": [],
   "source": []
  },
  {
   "cell_type": "code",
   "execution_count": null,
   "id": "f1169348-3018-467c-a997-3123b505585e",
   "metadata": {},
   "outputs": [],
   "source": [
    "def predict(train_x, train_y, parameters):\n",
    "\n",
    "    A=train_x\n",
    "    L = len(parameters) // 2                  \n",
    "    for l in range(1, L):\n",
    "        A_prev = A \n",
    "        A, cache=linear_activation_forward(A_prev,parameters['W'+str(l)],parameters['b'+str(l)],activation=\"relu\")\n",
    "        \n",
    "    AL, cache=linear_activation_forward(A,parameters['W'+str(L)],parameters['b'+str(L)],activation=\"sigmoid\")\n",
    "\n",
    "    m=train_x.shape[1]\n",
    "    Y_prediction = np.zeros((1, m))\n",
    "    for i in range(A.shape[1]):\n",
    "        \n",
    "        if AL[0,i]>=0.5:\n",
    "            Y_prediction[0,i]=1\n",
    "        else:\n",
    "            Y_prediction[0,i]=0\n",
    "        \n",
    "      \n",
    "    accuracy = np.mean(Y_prediction == train_y)\n",
    "   \n",
    "    return accuracy"
   ]
  },
  {
   "cell_type": "code",
   "execution_count": 56,
   "id": "8f796d45-c713-4e07-a21e-b1ac8904155a",
   "metadata": {},
   "outputs": [
    {
     "name": "stdout",
     "output_type": "stream",
     "text": [
      "0.5500370130470991\n"
     ]
    }
   ],
   "source": [
    "acc=predict(train_x, train_y, parameters)\n",
    "print(acc)"
   ]
  },
  {
   "cell_type": "code",
   "execution_count": 137,
   "id": "ab624f21-9400-4be5-b665-6e4af36ebc6b",
   "metadata": {},
   "outputs": [
    {
     "name": "stdout",
     "output_type": "stream",
     "text": [
      "10\n"
     ]
    }
   ],
   "source": [
    "print(len(parameters))"
   ]
  },
  {
   "cell_type": "code",
   "execution_count": null,
   "id": "11ab8562-5c11-4cf9-8a0c-00fa2113d1b3",
   "metadata": {},
   "outputs": [],
   "source": [
    "def initialize_parameters(n_x, n_h, n_y):    \n",
    "    np.random.seed(1)\n",
    "    \n",
    "    W1=np.random.randn(n_h,n_x)*0.01\n",
    "    b1=np.zeros((n_h,1))\n",
    "    W2=np.random.randn(n_y,n_h)*0.01\n",
    "    b2=np.zeros((n_y,1))\n",
    "    \n",
    "    \n",
    "    parameters = {\"W1\": W1,\n",
    "                  \"b1\": b1,\n",
    "                  \"W2\": W2,\n",
    "                  \"b2\": b2}\n",
    "    \n",
    "    return parameters    "
   ]
  },
  {
   "cell_type": "code",
   "execution_count": null,
   "id": "31fb1405-a14f-46c8-9a12-7ff59d5a92aa",
   "metadata": {},
   "outputs": [],
   "source": [
    "def two_layer_model(X, Y, layers_dims, learning_rate = 0.0075, num_iterations = 3000, print_cost=False):\n",
    "\n",
    "    \n",
    "    np.random.seed(1)\n",
    "    grads = {}\n",
    "    costs = []                             \n",
    "    m = X.shape[1]                           \n",
    "    (n_x, n_h, n_y) = layers_dims\n",
    "    \n",
    "    parameters=initialize_parameters(n_x,n_h,n_y)\n",
    "    \n",
    "    W1 = parameters[\"W1\"]\n",
    "    b1 = parameters[\"b1\"]\n",
    "    W2 = parameters[\"W2\"]\n",
    "    b2 = parameters[\"b2\"]\n",
    "    \n",
    "    for i in range(0, num_iterations):\n",
    "\n",
    "        A1,cache1=linear_activation_forward(X,W1,b1,'relu')\n",
    "        A2,cache2=linear_activation_forward(A1,W2,b2,'sigmoid')\n",
    "       \n",
    "        cost=compute_cost(A2,Y)\n",
    "        \n",
    "        \n",
    "        dA2 = - (np.divide(Y, A2) - np.divide(1 - Y, 1 - A2))\n",
    "\n",
    "        dA1,dW2,db2=linear_activation_backward(dA2,cache2,'sigmoid',Y)\n",
    "        dA0,dW1,db1=linear_activation_backward(dA1,cache1,'relu',Y)\n",
    "     \n",
    "        grads['dW1'] = dW1\n",
    "        grads['db1'] = db1\n",
    "        grads['dW2'] = dW2\n",
    "        grads['db2'] = db2\n",
    "        \n",
    "       \n",
    "        parameters=update_parameters(parameters,grads,learning_rate)\n",
    "        \n",
    "        W1 = parameters[\"W1\"]\n",
    "        b1 = parameters[\"b1\"]\n",
    "        W2 = parameters[\"W2\"]\n",
    "        b2 = parameters[\"b2\"]\n",
    "        \n",
    "        if print_cost and i % 100 == 0 or i == num_iterations - 1:\n",
    "            print(\"Cost after iteration {}: {}\".format(i, np.squeeze(cost)))\n",
    "        if i % 100 == 0 or i == num_iterations:\n",
    "            costs.append(cost)\n",
    "\n",
    "    return parameters, costs\n",
    "\n",
    "def plot_costs(costs, learning_rate=0.0075):\n",
    "    plt.plot(np.squeeze(costs))\n",
    "    plt.ylabel('cost')\n",
    "    plt.xlabel('iterations (per hundreds)')\n",
    "    plt.title(\"Learning rate =\" + str(learning_rate))\n",
    "    plt.show()"
   ]
  },
  {
   "cell_type": "code",
   "execution_count": 79,
   "id": "51bfba0d-d758-4231-a5a1-8bc921e2e58d",
   "metadata": {},
   "outputs": [
    {
     "name": "stdout",
     "output_type": "stream",
     "text": [
      "Cost after iteration 0: 0.6971067489475794\n",
      "Cost after iteration 100: 0.6792177131105648\n",
      "Cost after iteration 200: 0.6768213757912904\n",
      "Cost after iteration 300: 0.6739511576436252\n",
      "Cost after iteration 400: 0.6722249045098362\n",
      "Cost after iteration 500: 0.6709828358172152\n",
      "Cost after iteration 600: 0.6701201890198946\n",
      "Cost after iteration 700: 0.6694993626403616\n",
      "Cost after iteration 800: 0.6691274699654456\n",
      "Cost after iteration 900: 0.6688399435751792\n",
      "Cost after iteration 1000: 0.6686989317362355\n",
      "Cost after iteration 1100: 0.6685762626268522\n",
      "Cost after iteration 1200: 0.6684948785936531\n",
      "Cost after iteration 1300: 0.6685338720814471\n",
      "Cost after iteration 1400: 0.6685895463784931\n",
      "Cost after iteration 1500: 0.6686169412100993\n",
      "Cost after iteration 1600: 0.6687350069049544\n",
      "Cost after iteration 1700: 0.6688813615348967\n",
      "Cost after iteration 1800: 0.669002074139762\n",
      "Cost after iteration 1900: 0.6691524628507262\n",
      "Cost after iteration 2000: 0.6693022017638722\n",
      "Cost after iteration 2100: 0.6694108439136132\n",
      "Cost after iteration 2200: 0.6695790929791552\n",
      "Cost after iteration 2300: 0.669746407638556\n",
      "Cost after iteration 2400: 0.6698967819068886\n",
      "Cost after iteration 2500: 0.6699884035293147\n",
      "Cost after iteration 2600: 0.6701140525071678\n",
      "Cost after iteration 2700: 0.6701615912013255\n",
      "Cost after iteration 2800: 0.6702781702368972\n",
      "Cost after iteration 2900: 0.670401901144609\n",
      "Cost after iteration 2999: 0.6656504220834042\n"
     ]
    },
    {
     "data": {
      "image/png": "[encoded data removed]",
      "text/plain": [
       "<Figure size 640x480 with 1 Axes>"
      ]
     },
     "metadata": {},
     "output_type": "display_data"
    }
   ],
   "source": [
    "parameters_1,costs_1=two_layer_model(train_x, train_y, [8,7,1], learning_rate = 0.0075, num_iterations = 3000, print_cost=True)\n",
    "plot_costs(costs_1,0.0075)"
   ]
  },
  {
   "cell_type": "code",
   "execution_count": null,
   "id": "e30ebfcd-bcbd-4bb4-83ee-d8b0bbb2da19",
   "metadata": {},
   "outputs": [],
   "source": []
  }
 ],
 "metadata": {
  "kernelspec": {
   "display_name": "Python 3 (ipykernel)",
   "language": "python",
   "name": "python3"
  },
  "language_info": {
   "codemirror_mode": {
    "name": "ipython",
    "version": 3
   },
   "file_extension": ".py",
   "mimetype": "text/x-python",
   "name": "python",
   "nbconvert_exporter": "python",
   "pygments_lexer": "ipython3",
   "version": "3.9.13"
  }
 },
 "nbformat": 4,
 "nbformat_minor": 5
}
