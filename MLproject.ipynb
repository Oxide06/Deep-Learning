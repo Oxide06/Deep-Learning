{
 "cells": [
  {
   "cell_type": "code",
   "execution_count": 1,
   "metadata": {},
   "outputs": [],
   "source": [
    "import pandas as pd\n",
    "import numpy as np\n",
    "import re\n",
    "from nltk.corpus import stopwords\n",
    "from nltk.stem.porter import PorterStemmer\n",
    "from sklearn.feature_extraction.text import TfidfVectorizer\n",
    "from sklearn.model_selection import train_test_split\n",
    "from sklearn.linear_model import LogisticRegression\n",
    "from sklearn.metrics import accuracy_score\n",
    "import tensorflow as tf\n",
    "from tensorflow.keras.preprocessing.sequence import pad_sequences\n",
    "from tensorflow.keras.models import Sequential\n",
    "from tensorflow.keras.layers import Embedding, LSTM, Dense, Dropout\n",
    "from sklearn.model_selection import train_test_split\n",
    "from sklearn.metrics import classification_report"
   ]
  },
  {
   "cell_type": "code",
   "execution_count": 2,
   "metadata": {},
   "outputs": [
    {
     "name": "stderr",
     "output_type": "stream",
     "text": [
      "[nltk_data] Downloading package stopwords to\n",
      "[nltk_data]     C:\\Users\\ashok\\AppData\\Roaming\\nltk_data...\n",
      "[nltk_data]   Unzipping corpora\\stopwords.zip.\n"
     ]
    },
    {
     "data": {
      "text/plain": [
       "True"
      ]
     },
     "execution_count": 2,
     "metadata": {},
     "output_type": "execute_result"
    }
   ],
   "source": [
    "import nltk \n",
    "nltk.download('stopwords')"
   ]
  },
  {
   "cell_type": "code",
   "execution_count": 3,
   "metadata": {},
   "outputs": [
    {
     "name": "stdout",
     "output_type": "stream",
     "text": [
      "['a', 'about', 'above', 'after', 'again', 'against', 'ain', 'all', 'am', 'an', 'and', 'any', 'are', 'aren', \"aren't\", 'as', 'at', 'be', 'because', 'been', 'before', 'being', 'below', 'between', 'both', 'but', 'by', 'can', 'couldn', \"couldn't\", 'd', 'did', 'didn', \"didn't\", 'do', 'does', 'doesn', \"doesn't\", 'doing', 'don', \"don't\", 'down', 'during', 'each', 'few', 'for', 'from', 'further', 'had', 'hadn', \"hadn't\", 'has', 'hasn', \"hasn't\", 'have', 'haven', \"haven't\", 'having', 'he', \"he'd\", \"he'll\", 'her', 'here', 'hers', 'herself', \"he's\", 'him', 'himself', 'his', 'how', 'i', \"i'd\", 'if', \"i'll\", \"i'm\", 'in', 'into', 'is', 'isn', \"isn't\", 'it', \"it'd\", \"it'll\", \"it's\", 'its', 'itself', \"i've\", 'just', 'll', 'm', 'ma', 'me', 'mightn', \"mightn't\", 'more', 'most', 'mustn', \"mustn't\", 'my', 'myself', 'needn', \"needn't\", 'no', 'nor', 'not', 'now', 'o', 'of', 'off', 'on', 'once', 'only', 'or', 'other', 'our', 'ours', 'ourselves', 'out', 'over', 'own', 're', 's', 'same', 'shan', \"shan't\", 'she', \"she'd\", \"she'll\", \"she's\", 'should', 'shouldn', \"shouldn't\", \"should've\", 'so', 'some', 'such', 't', 'than', 'that', \"that'll\", 'the', 'their', 'theirs', 'them', 'themselves', 'then', 'there', 'these', 'they', \"they'd\", \"they'll\", \"they're\", \"they've\", 'this', 'those', 'through', 'to', 'too', 'under', 'until', 'up', 've', 'very', 'was', 'wasn', \"wasn't\", 'we', \"we'd\", \"we'll\", \"we're\", 'were', 'weren', \"weren't\", \"we've\", 'what', 'when', 'where', 'which', 'while', 'who', 'whom', 'why', 'will', 'with', 'won', \"won't\", 'wouldn', \"wouldn't\", 'y', 'you', \"you'd\", \"you'll\", 'your', \"you're\", 'yours', 'yourself', 'yourselves', \"you've\"]\n"
     ]
    }
   ],
   "source": [
    "print(stopwords.words('english'))"
   ]
  },
  {
   "cell_type": "code",
   "execution_count": 7,
   "metadata": {},
   "outputs": [],
   "source": [
    "data= pd.read_csv('training.1600000.processed.noemoticon.csv', encoding='ISO-8859-1')"
   ]
  },
  {
   "cell_type": "code",
   "execution_count": 8,
   "metadata": {},
   "outputs": [
    {
     "data": {
      "text/plain": [
       "(1599999, 6)"
      ]
     },
     "execution_count": 8,
     "metadata": {},
     "output_type": "execute_result"
    }
   ],
   "source": [
    "data.shape"
   ]
  },
  {
   "cell_type": "code",
   "execution_count": 9,
   "metadata": {},
   "outputs": [
    {
     "data": {
      "text/html": [
       "<div>\n",
       "<style scoped>\n",
       "    .dataframe tbody tr th:only-of-type {\n",
       "        vertical-align: middle;\n",
       "    }\n",
       "\n",
       "    .dataframe tbody tr th {\n",
       "        vertical-align: top;\n",
       "    }\n",
       "\n",
       "    .dataframe thead th {\n",
       "        text-align: right;\n",
       "    }\n",
       "</style>\n",
       "<table border=\"1\" class=\"dataframe\">\n",
       "  <thead>\n",
       "    <tr style=\"text-align: right;\">\n",
       "      <th></th>\n",
       "      <th>0</th>\n",
       "      <th>1467810369</th>\n",
       "      <th>Mon Apr 06 22:19:45 PDT 2009</th>\n",
       "      <th>NO_QUERY</th>\n",
       "      <th>_TheSpecialOne_</th>\n",
       "      <th>@switchfoot http://twitpic.com/2y1zl - Awww, that's a bummer.  You shoulda got David Carr of Third Day to do it. ;D</th>\n",
       "    </tr>\n",
       "  </thead>\n",
       "  <tbody>\n",
       "    <tr>\n",
       "      <th>0</th>\n",
       "      <td>0</td>\n",
       "      <td>1467810672</td>\n",
       "      <td>Mon Apr 06 22:19:49 PDT 2009</td>\n",
       "      <td>NO_QUERY</td>\n",
       "      <td>scotthamilton</td>\n",
       "      <td>is upset that he can't update his Facebook by ...</td>\n",
       "    </tr>\n",
       "    <tr>\n",
       "      <th>1</th>\n",
       "      <td>0</td>\n",
       "      <td>1467810917</td>\n",
       "      <td>Mon Apr 06 22:19:53 PDT 2009</td>\n",
       "      <td>NO_QUERY</td>\n",
       "      <td>mattycus</td>\n",
       "      <td>@Kenichan I dived many times for the ball. Man...</td>\n",
       "    </tr>\n",
       "    <tr>\n",
       "      <th>2</th>\n",
       "      <td>0</td>\n",
       "      <td>1467811184</td>\n",
       "      <td>Mon Apr 06 22:19:57 PDT 2009</td>\n",
       "      <td>NO_QUERY</td>\n",
       "      <td>ElleCTF</td>\n",
       "      <td>my whole body feels itchy and like its on fire</td>\n",
       "    </tr>\n",
       "    <tr>\n",
       "      <th>3</th>\n",
       "      <td>0</td>\n",
       "      <td>1467811193</td>\n",
       "      <td>Mon Apr 06 22:19:57 PDT 2009</td>\n",
       "      <td>NO_QUERY</td>\n",
       "      <td>Karoli</td>\n",
       "      <td>@nationwideclass no, it's not behaving at all....</td>\n",
       "    </tr>\n",
       "    <tr>\n",
       "      <th>4</th>\n",
       "      <td>0</td>\n",
       "      <td>1467811372</td>\n",
       "      <td>Mon Apr 06 22:20:00 PDT 2009</td>\n",
       "      <td>NO_QUERY</td>\n",
       "      <td>joy_wolf</td>\n",
       "      <td>@Kwesidei not the whole crew</td>\n",
       "    </tr>\n",
       "  </tbody>\n",
       "</table>\n",
       "</div>"
      ],
      "text/plain": [
       "   0  1467810369  Mon Apr 06 22:19:45 PDT 2009  NO_QUERY _TheSpecialOne_  \\\n",
       "0  0  1467810672  Mon Apr 06 22:19:49 PDT 2009  NO_QUERY   scotthamilton   \n",
       "1  0  1467810917  Mon Apr 06 22:19:53 PDT 2009  NO_QUERY        mattycus   \n",
       "2  0  1467811184  Mon Apr 06 22:19:57 PDT 2009  NO_QUERY         ElleCTF   \n",
       "3  0  1467811193  Mon Apr 06 22:19:57 PDT 2009  NO_QUERY          Karoli   \n",
       "4  0  1467811372  Mon Apr 06 22:20:00 PDT 2009  NO_QUERY        joy_wolf   \n",
       "\n",
       "  @switchfoot http://twitpic.com/2y1zl - Awww, that's a bummer.  You shoulda got David Carr of Third Day to do it. ;D  \n",
       "0  is upset that he can't update his Facebook by ...                                                                   \n",
       "1  @Kenichan I dived many times for the ball. Man...                                                                   \n",
       "2    my whole body feels itchy and like its on fire                                                                    \n",
       "3  @nationwideclass no, it's not behaving at all....                                                                   \n",
       "4                      @Kwesidei not the whole crew                                                                    "
      ]
     },
     "execution_count": 9,
     "metadata": {},
     "output_type": "execute_result"
    }
   ],
   "source": [
    "data.head()"
   ]
  },
  {
   "cell_type": "code",
   "execution_count": 10,
   "metadata": {},
   "outputs": [],
   "source": [
    "column=['output','id','date','flag','user','text']\n",
    "data= pd.read_csv('training.1600000.processed.noemoticon.csv', names=column,encoding='ISO-8859-1')"
   ]
  },
  {
   "cell_type": "code",
   "execution_count": 11,
   "metadata": {},
   "outputs": [
    {
     "data": {
      "text/html": [
       "<div>\n",
       "<style scoped>\n",
       "    .dataframe tbody tr th:only-of-type {\n",
       "        vertical-align: middle;\n",
       "    }\n",
       "\n",
       "    .dataframe tbody tr th {\n",
       "        vertical-align: top;\n",
       "    }\n",
       "\n",
       "    .dataframe thead th {\n",
       "        text-align: right;\n",
       "    }\n",
       "</style>\n",
       "<table border=\"1\" class=\"dataframe\">\n",
       "  <thead>\n",
       "    <tr style=\"text-align: right;\">\n",
       "      <th></th>\n",
       "      <th>output</th>\n",
       "      <th>id</th>\n",
       "      <th>date</th>\n",
       "      <th>flag</th>\n",
       "      <th>user</th>\n",
       "      <th>text</th>\n",
       "    </tr>\n",
       "  </thead>\n",
       "  <tbody>\n",
       "    <tr>\n",
       "      <th>0</th>\n",
       "      <td>0</td>\n",
       "      <td>1467810369</td>\n",
       "      <td>Mon Apr 06 22:19:45 PDT 2009</td>\n",
       "      <td>NO_QUERY</td>\n",
       "      <td>_TheSpecialOne_</td>\n",
       "      <td>@switchfoot http://twitpic.com/2y1zl - Awww, t...</td>\n",
       "    </tr>\n",
       "    <tr>\n",
       "      <th>1</th>\n",
       "      <td>0</td>\n",
       "      <td>1467810672</td>\n",
       "      <td>Mon Apr 06 22:19:49 PDT 2009</td>\n",
       "      <td>NO_QUERY</td>\n",
       "      <td>scotthamilton</td>\n",
       "      <td>is upset that he can't update his Facebook by ...</td>\n",
       "    </tr>\n",
       "    <tr>\n",
       "      <th>2</th>\n",
       "      <td>0</td>\n",
       "      <td>1467810917</td>\n",
       "      <td>Mon Apr 06 22:19:53 PDT 2009</td>\n",
       "      <td>NO_QUERY</td>\n",
       "      <td>mattycus</td>\n",
       "      <td>@Kenichan I dived many times for the ball. Man...</td>\n",
       "    </tr>\n",
       "    <tr>\n",
       "      <th>3</th>\n",
       "      <td>0</td>\n",
       "      <td>1467811184</td>\n",
       "      <td>Mon Apr 06 22:19:57 PDT 2009</td>\n",
       "      <td>NO_QUERY</td>\n",
       "      <td>ElleCTF</td>\n",
       "      <td>my whole body feels itchy and like its on fire</td>\n",
       "    </tr>\n",
       "    <tr>\n",
       "      <th>4</th>\n",
       "      <td>0</td>\n",
       "      <td>1467811193</td>\n",
       "      <td>Mon Apr 06 22:19:57 PDT 2009</td>\n",
       "      <td>NO_QUERY</td>\n",
       "      <td>Karoli</td>\n",
       "      <td>@nationwideclass no, it's not behaving at all....</td>\n",
       "    </tr>\n",
       "  </tbody>\n",
       "</table>\n",
       "</div>"
      ],
      "text/plain": [
       "   output          id                          date      flag  \\\n",
       "0       0  1467810369  Mon Apr 06 22:19:45 PDT 2009  NO_QUERY   \n",
       "1       0  1467810672  Mon Apr 06 22:19:49 PDT 2009  NO_QUERY   \n",
       "2       0  1467810917  Mon Apr 06 22:19:53 PDT 2009  NO_QUERY   \n",
       "3       0  1467811184  Mon Apr 06 22:19:57 PDT 2009  NO_QUERY   \n",
       "4       0  1467811193  Mon Apr 06 22:19:57 PDT 2009  NO_QUERY   \n",
       "\n",
       "              user                                               text  \n",
       "0  _TheSpecialOne_  @switchfoot http://twitpic.com/2y1zl - Awww, t...  \n",
       "1    scotthamilton  is upset that he can't update his Facebook by ...  \n",
       "2         mattycus  @Kenichan I dived many times for the ball. Man...  \n",
       "3          ElleCTF    my whole body feels itchy and like its on fire   \n",
       "4           Karoli  @nationwideclass no, it's not behaving at all....  "
      ]
     },
     "execution_count": 11,
     "metadata": {},
     "output_type": "execute_result"
    }
   ],
   "source": [
    "data.head()"
   ]
  },
  {
   "cell_type": "code",
   "execution_count": 12,
   "metadata": {},
   "outputs": [
    {
     "data": {
      "text/plain": [
       "output    0\n",
       "id        0\n",
       "date      0\n",
       "flag      0\n",
       "user      0\n",
       "text      0\n",
       "dtype: int64"
      ]
     },
     "execution_count": 12,
     "metadata": {},
     "output_type": "execute_result"
    }
   ],
   "source": [
    "data.isnull().sum()"
   ]
  },
  {
   "cell_type": "code",
   "execution_count": 13,
   "metadata": {},
   "outputs": [
    {
     "data": {
      "text/plain": [
       "output\n",
       "0    800000\n",
       "4    800000\n",
       "Name: count, dtype: int64"
      ]
     },
     "execution_count": 13,
     "metadata": {},
     "output_type": "execute_result"
    }
   ],
   "source": [
    "data['output'].value_counts()\n"
   ]
  },
  {
   "cell_type": "code",
   "execution_count": 14,
   "metadata": {},
   "outputs": [],
   "source": [
    "data.replace({'output':{4:1}}, inplace=True)"
   ]
  },
  {
   "cell_type": "code",
   "execution_count": 15,
   "metadata": {},
   "outputs": [
    {
     "data": {
      "text/plain": [
       "output\n",
       "0    800000\n",
       "1    800000\n",
       "Name: count, dtype: int64"
      ]
     },
     "execution_count": 15,
     "metadata": {},
     "output_type": "execute_result"
    }
   ],
   "source": [
    "data['output'].value_counts()"
   ]
  },
  {
   "cell_type": "code",
   "execution_count": 30,
   "metadata": {},
   "outputs": [],
   "source": []
  },
  {
   "cell_type": "code",
   "execution_count": 31,
   "metadata": {},
   "outputs": [],
   "source": []
  },
  {
   "cell_type": "code",
   "execution_count": 16,
   "metadata": {},
   "outputs": [],
   "source": [
    "from concurrent.futures import ThreadPoolExecutor\n",
    "from tqdm import tqdm"
   ]
  },
  {
   "cell_type": "code",
   "execution_count": 17,
   "metadata": {},
   "outputs": [
    {
     "name": "stderr",
     "output_type": "stream",
     "text": [
      "  0%|                                                                                           | 0/33 [00:00<?, ?it/s]\n",
      "  0%|                                                                                        | 0/50000 [00:00<?, ?it/s]\u001b[A\n",
      "100%|████████████████████████████████████████████████████████████████████████| 50000/50000 [00:00<00:00, 263099.05it/s]\u001b[A\n",
      "  3%|██▌                                                                                | 1/33 [00:14<07:47, 14.62s/it]\n",
      "  0%|                                                                                        | 0/50000 [00:00<?, ?it/s]\u001b[A\n",
      " 45%|████████████████████████████████▌                                       | 22578/50000 [00:00<00:00, 225543.07it/s]\u001b[A\n",
      "100%|████████████████████████████████████████████████████████████████████████| 50000/50000 [00:00<00:00, 223425.01it/s]\u001b[A\n",
      "  6%|█████                                                                              | 2/33 [00:28<07:25, 14.37s/it]\n",
      "  0%|                                                                                        | 0/50000 [00:00<?, ?it/s]\u001b[A\n",
      "100%|████████████████████████████████████████████████████████████████████████| 50000/50000 [00:00<00:00, 252955.70it/s]\u001b[A\n",
      "  9%|███████▌                                                                           | 3/33 [00:42<06:58, 13.94s/it]\n",
      "  0%|                                                                                        | 0/50000 [00:00<?, ?it/s]\u001b[A\n",
      "100%|████████████████████████████████████████████████████████████████████████| 50000/50000 [00:00<00:00, 259868.20it/s]\u001b[A\n",
      " 12%|██████████                                                                         | 4/33 [00:57<07:03, 14.62s/it]\n",
      "  0%|                                                                                        | 0/50000 [00:00<?, ?it/s]\u001b[A\n",
      "100%|████████████████████████████████████████████████████████████████████████| 50000/50000 [00:00<00:00, 263110.93it/s]\u001b[A\n",
      " 15%|████████████▌                                                                      | 5/33 [01:11<06:38, 14.25s/it]\n",
      "  0%|                                                                                        | 0/50000 [00:00<?, ?it/s]\u001b[A\n",
      " 45%|████████████████████████████████                                        | 22289/50000 [00:00<00:00, 220694.48it/s]\u001b[A\n",
      "100%|████████████████████████████████████████████████████████████████████████| 50000/50000 [00:00<00:00, 206587.06it/s]\u001b[A\n",
      " 18%|███████████████                                                                    | 6/33 [01:26<06:28, 14.39s/it]\n",
      "  0%|                                                                                        | 0/50000 [00:00<?, ?it/s]\u001b[A\n",
      " 42%|██████████████████████████████▏                                         | 20966/50000 [00:00<00:00, 208180.61it/s]\u001b[A\n",
      "100%|████████████████████████████████████████████████████████████████████████| 50000/50000 [00:00<00:00, 201408.51it/s]\u001b[A\n",
      " 21%|█████████████████▌                                                                 | 7/33 [01:42<06:28, 14.96s/it]\n",
      "  0%|                                                                                        | 0/50000 [00:00<?, ?it/s]\u001b[A\n",
      " 44%|███████████████████████████████▍                                        | 21828/50000 [00:00<00:00, 216796.75it/s]\u001b[A\n",
      "100%|████████████████████████████████████████████████████████████████████████| 50000/50000 [00:00<00:00, 230501.10it/s]\u001b[A\n",
      " 24%|████████████████████                                                               | 8/33 [01:58<06:20, 15.21s/it]\n",
      "  0%|                                                                                        | 0/50000 [00:00<?, ?it/s]\u001b[A\n",
      " 38%|███████████████████████████▍                                            | 19031/50000 [00:00<00:00, 188452.30it/s]\u001b[A\n",
      "100%|████████████████████████████████████████████████████████████████████████| 50000/50000 [00:00<00:00, 187200.75it/s]\u001b[A\n",
      " 27%|██████████████████████▋                                                            | 9/33 [02:14<06:15, 15.64s/it]\n",
      "  0%|                                                                                        | 0/50000 [00:00<?, ?it/s]\u001b[A\n",
      " 48%|██████████████████████████████████▍                                     | 23900/50000 [00:00<00:00, 237930.36it/s]\u001b[A\n",
      "100%|████████████████████████████████████████████████████████████████████████| 50000/50000 [00:00<00:00, 237556.60it/s]\u001b[A\n",
      " 30%|████████████████████████▊                                                         | 10/33 [02:30<05:59, 15.62s/it]\n",
      "  0%|                                                                                        | 0/50000 [00:00<?, ?it/s]\u001b[A\n",
      " 30%|█████████████████████▎                                                  | 14797/50000 [00:00<00:00, 147722.19it/s]\u001b[A\n",
      "100%|████████████████████████████████████████████████████████████████████████| 50000/50000 [00:00<00:00, 192616.80it/s]\u001b[A\n",
      " 33%|███████████████████████████▎                                                      | 11/33 [02:43<05:24, 14.76s/it]\n",
      "  0%|                                                                                        | 0/50000 [00:00<?, ?it/s]\u001b[A\n",
      " 46%|████████████████████████████████▊                                       | 22786/50000 [00:00<00:00, 225885.34it/s]\u001b[A\n",
      "100%|████████████████████████████████████████████████████████████████████████| 50000/50000 [00:00<00:00, 229604.96it/s]\u001b[A\n",
      " 36%|█████████████████████████████▊                                                    | 12/33 [02:55<04:58, 14.21s/it]\n",
      "  0%|                                                                                        | 0/50000 [00:00<?, ?it/s]\u001b[A\n",
      " 46%|█████████████████████████████████▍                                      | 23182/50000 [00:00<00:00, 229671.52it/s]\u001b[A\n",
      "100%|████████████████████████████████████████████████████████████████████████| 50000/50000 [00:00<00:00, 223163.71it/s]\u001b[A\n",
      " 39%|████████████████████████████████▎                                                 | 13/33 [03:09<04:38, 13.90s/it]\n",
      "  0%|                                                                                        | 0/50000 [00:00<?, ?it/s]\u001b[A\n",
      " 49%|███████████████████████████████████▌                                    | 24700/50000 [00:00<00:00, 245278.03it/s]\u001b[A\n",
      "100%|████████████████████████████████████████████████████████████████████████| 50000/50000 [00:00<00:00, 237450.62it/s]\u001b[A\n",
      " 42%|██████████████████████████████████▊                                               | 14/33 [03:22<04:21, 13.79s/it]\n",
      "  0%|                                                                                        | 0/50000 [00:00<?, ?it/s]\u001b[A\n",
      " 45%|████████████████████████████████▎                                       | 22442/50000 [00:00<00:00, 224386.51it/s]\u001b[A\n",
      "100%|████████████████████████████████████████████████████████████████████████| 50000/50000 [00:00<00:00, 191183.58it/s]\u001b[A\n",
      " 45%|█████████████████████████████████████▎                                            | 15/33 [03:36<04:09, 13.86s/it]\n",
      "  0%|                                                                                        | 0/50000 [00:00<?, ?it/s]\u001b[A\n",
      " 46%|████████████████████████████████▉                                       | 22835/50000 [00:00<00:00, 227706.34it/s]\u001b[A\n",
      "100%|████████████████████████████████████████████████████████████████████████| 50000/50000 [00:00<00:00, 215792.79it/s]\u001b[A\n",
      " 48%|███████████████████████████████████████▊                                          | 16/33 [03:51<04:01, 14.21s/it]\n",
      "  0%|                                                                                        | 0/50000 [00:00<?, ?it/s]\u001b[A\n",
      " 46%|█████████████████████████████████▎                                      | 23106/50000 [00:00<00:00, 230310.15it/s]\u001b[A\n",
      "100%|████████████████████████████████████████████████████████████████████████| 50000/50000 [00:00<00:00, 190925.98it/s]\u001b[A\n",
      " 52%|██████████████████████████████████████████▏                                       | 17/33 [04:07<03:56, 14.80s/it]\n",
      "  0%|                                                                                        | 0/50000 [00:00<?, ?it/s]\u001b[A\n",
      " 43%|██████████████████████████████▌                                         | 21256/50000 [00:00<00:00, 211109.12it/s]\u001b[A\n",
      "100%|████████████████████████████████████████████████████████████████████████| 50000/50000 [00:00<00:00, 211510.71it/s]\u001b[A\n",
      " 55%|████████████████████████████████████████████▋                                     | 18/33 [04:23<03:44, 14.99s/it]\n",
      "  0%|                                                                                        | 0/50000 [00:00<?, ?it/s]\u001b[A\n",
      " 46%|█████████████████████████████████                                       | 22956/50000 [00:00<00:00, 227837.71it/s]\u001b[A\n",
      "100%|████████████████████████████████████████████████████████████████████████| 50000/50000 [00:00<00:00, 185746.15it/s]\u001b[A\n",
      " 58%|███████████████████████████████████████████████▏                                  | 19/33 [04:35<03:20, 14.29s/it]\n",
      "  0%|                                                                                        | 0/50000 [00:00<?, ?it/s]\u001b[A\n",
      " 50%|███████████████████████████████████▉                                    | 24967/50000 [00:00<00:00, 247623.97it/s]\u001b[A\n",
      "100%|█████████████████████████████████████████████████████████████████████████| 50000/50000 [00:01<00:00, 35003.54it/s]\u001b[A\n",
      " 61%|█████████████████████████████████████████████████▋                                | 20/33 [04:48<02:58, 13.75s/it]\n",
      "  0%|                                                                                        | 0/50000 [00:00<?, ?it/s]\u001b[A\n",
      " 41%|█████████████████████████████▍                                          | 20433/50000 [00:00<00:00, 202799.40it/s]\u001b[A\n",
      "100%|████████████████████████████████████████████████████████████████████████| 50000/50000 [00:00<00:00, 215357.13it/s]\u001b[A\n",
      " 64%|████████████████████████████████████████████████████▏                             | 21/33 [05:02<02:46, 13.91s/it]\n",
      "  0%|                                                                                        | 0/50000 [00:00<?, ?it/s]\u001b[A\n",
      " 47%|██████████████████████████████████▏                                     | 23703/50000 [00:00<00:00, 236427.64it/s]\u001b[A\n",
      "100%|████████████████████████████████████████████████████████████████████████| 50000/50000 [00:00<00:00, 230393.73it/s]\u001b[A\n",
      " 67%|██████████████████████████████████████████████████████▋                           | 22/33 [05:17<02:34, 14.05s/it]\n",
      "  0%|                                                                                        | 0/50000 [00:00<?, ?it/s]\u001b[A\n",
      " 42%|██████████████████████████████                                          | 20839/50000 [00:00<00:00, 206887.24it/s]\u001b[A\n",
      "100%|████████████████████████████████████████████████████████████████████████| 50000/50000 [00:00<00:00, 210515.58it/s]\u001b[A\n",
      " 70%|█████████████████████████████████████████████████████████▏                        | 23/33 [05:31<02:20, 14.06s/it]\n",
      "  0%|                                                                                        | 0/50000 [00:00<?, ?it/s]\u001b[A\n",
      " 47%|█████████████████████████████████▌                                      | 23306/50000 [00:00<00:00, 231609.04it/s]\u001b[A\n",
      "100%|████████████████████████████████████████████████████████████████████████| 50000/50000 [00:00<00:00, 231059.30it/s]\u001b[A\n",
      " 73%|███████████████████████████████████████████████████████████▋                      | 24/33 [05:45<02:06, 14.04s/it]\n",
      "  0%|                                                                                        | 0/50000 [00:00<?, ?it/s]\u001b[A\n",
      " 43%|███████████████████████████████                                         | 21610/50000 [00:00<00:00, 214330.09it/s]\u001b[A\n",
      "100%|████████████████████████████████████████████████████████████████████████| 50000/50000 [00:00<00:00, 224688.68it/s]\u001b[A\n",
      " 76%|██████████████████████████████████████████████████████████████                    | 25/33 [05:59<01:52, 14.08s/it]\n",
      "  0%|                                                                                        | 0/50000 [00:00<?, ?it/s]\u001b[A\n",
      " 47%|█████████████████████████████████▋                                      | 23435/50000 [00:00<00:00, 232754.25it/s]\u001b[A\n",
      "100%|████████████████████████████████████████████████████████████████████████| 50000/50000 [00:00<00:00, 234171.09it/s]\u001b[A\n",
      " 79%|████████████████████████████████████████████████████████████████▌                 | 26/33 [06:13<01:38, 14.10s/it]\n",
      "  0%|                                                                                        | 0/50000 [00:00<?, ?it/s]\u001b[A\n",
      " 46%|████████████████████████████████▊                                       | 22766/50000 [00:00<00:00, 226214.79it/s]\u001b[A\n",
      "100%|████████████████████████████████████████████████████████████████████████| 50000/50000 [00:00<00:00, 218762.11it/s]\u001b[A\n",
      " 82%|███████████████████████████████████████████████████████████████████               | 27/33 [06:28<01:25, 14.27s/it]\n",
      "  0%|                                                                                        | 0/50000 [00:00<?, ?it/s]\u001b[A\n",
      " 39%|████████████████████████████                                            | 19497/50000 [00:00<00:00, 194065.17it/s]\u001b[A\n",
      "100%|████████████████████████████████████████████████████████████████████████| 50000/50000 [00:00<00:00, 168509.42it/s]\u001b[A\n",
      " 85%|█████████████████████████████████████████████████████████████████████▌            | 28/33 [06:42<01:10, 14.18s/it]\n",
      "  0%|                                                                                        | 0/50000 [00:00<?, ?it/s]\u001b[A\n",
      " 46%|████████████████████████████████▊                                       | 22786/50000 [00:00<00:00, 226027.45it/s]\u001b[A\n",
      "100%|████████████████████████████████████████████████████████████████████████| 50000/50000 [00:00<00:00, 220081.94it/s]\u001b[A\n",
      " 88%|████████████████████████████████████████████████████████████████████████          | 29/33 [06:56<00:56, 14.12s/it]\n",
      "  0%|                                                                                        | 0/50000 [00:00<?, ?it/s]\u001b[A\n",
      " 46%|████████████████████████████████▉                                       | 22838/50000 [00:00<00:00, 226536.30it/s]\u001b[A\n",
      "100%|████████████████████████████████████████████████████████████████████████| 50000/50000 [00:00<00:00, 191413.22it/s]\u001b[A\n",
      " 91%|██████████████████████████████████████████████████████████████████████████▌       | 30/33 [07:09<00:42, 14.03s/it]\n",
      "  0%|                                                                                        | 0/50000 [00:00<?, ?it/s]\u001b[A\n",
      " 44%|███████████████████████████████▌                                        | 21911/50000 [00:00<00:00, 218438.90it/s]\u001b[A\n",
      "100%|████████████████████████████████████████████████████████████████████████| 50000/50000 [00:00<00:00, 220067.62it/s]\u001b[A\n",
      " 94%|█████████████████████████████████████████████████████████████████████████████     | 31/33 [07:23<00:27, 13.86s/it]\n",
      "  0%|                                                                                        | 0/50000 [00:00<?, ?it/s]\u001b[A\n",
      " 48%|██████████████████████████████████▎                                     | 23840/50000 [00:00<00:00, 237795.86it/s]\u001b[A\n",
      "100%|████████████████████████████████████████████████████████████████████████| 50000/50000 [00:00<00:00, 229312.97it/s]\u001b[A\n",
      " 97%|███████████████████████████████████████████████████████████████████████████████▌  | 32/33 [07:37<00:13, 13.91s/it]\n",
      "0it [00:00, ?it/s]\u001b[A\n",
      "100%|██████████████████████████████████████████████████████████████████████████████████| 33/33 [07:37<00:00, 13.86s/it]\n"
     ]
    }
   ],
   "source": [
    "stop_words = set(stopwords.words('english'))\n",
    "def stemming(content):\n",
    "    try:\n",
    "        port_stem=PorterStemmer()\n",
    "        stemmed= re.sub('[^a-zA-Z]',' ',content).lower()\n",
    "        return ' '.join(port_stem.stem(word) for word in stemmed.split() if not word in stop_words)\n",
    "    except Exception as e:\n",
    "        print(f\"Error processing content: {content}.Error={e}\")\n",
    "        return \"\"\n",
    "def process_data(df):\n",
    "    with ThreadPoolExecutor() as executor:\n",
    "        return list(tqdm(executor.map(stemming,df['text']),total=len(df)))\n",
    "\n",
    "chunk_size=50000\n",
    "num_chunk=len(data)//chunk_size+1\n",
    "stemmed_con=[]\n",
    "\n",
    "for i in tqdm(range(num_chunk)):\n",
    "    start = i*chunk_size\n",
    "    end = min((i+1)*chunk_size,len(data))\n",
    "    chunk=data.iloc[start:end]\n",
    "    stemmed_chunk = process_data(chunk)\n",
    "    stemmed_con.extend(stemmed_chunk)\n",
    "\n",
    "data['stemmed_text'] = stemmed_con \n"
   ]
  },
  {
   "cell_type": "code",
   "execution_count": 18,
   "metadata": {},
   "outputs": [
    {
     "data": {
      "text/html": [
       "<div>\n",
       "<style scoped>\n",
       "    .dataframe tbody tr th:only-of-type {\n",
       "        vertical-align: middle;\n",
       "    }\n",
       "\n",
       "    .dataframe tbody tr th {\n",
       "        vertical-align: top;\n",
       "    }\n",
       "\n",
       "    .dataframe thead th {\n",
       "        text-align: right;\n",
       "    }\n",
       "</style>\n",
       "<table border=\"1\" class=\"dataframe\">\n",
       "  <thead>\n",
       "    <tr style=\"text-align: right;\">\n",
       "      <th></th>\n",
       "      <th>output</th>\n",
       "      <th>id</th>\n",
       "      <th>date</th>\n",
       "      <th>flag</th>\n",
       "      <th>user</th>\n",
       "      <th>text</th>\n",
       "      <th>stemmed_text</th>\n",
       "    </tr>\n",
       "  </thead>\n",
       "  <tbody>\n",
       "    <tr>\n",
       "      <th>0</th>\n",
       "      <td>0</td>\n",
       "      <td>1467810369</td>\n",
       "      <td>Mon Apr 06 22:19:45 PDT 2009</td>\n",
       "      <td>NO_QUERY</td>\n",
       "      <td>_TheSpecialOne_</td>\n",
       "      <td>@switchfoot http://twitpic.com/2y1zl - Awww, t...</td>\n",
       "      <td>switchfoot http twitpic com zl awww bummer sho...</td>\n",
       "    </tr>\n",
       "    <tr>\n",
       "      <th>1</th>\n",
       "      <td>0</td>\n",
       "      <td>1467810672</td>\n",
       "      <td>Mon Apr 06 22:19:49 PDT 2009</td>\n",
       "      <td>NO_QUERY</td>\n",
       "      <td>scotthamilton</td>\n",
       "      <td>is upset that he can't update his Facebook by ...</td>\n",
       "      <td>upset updat facebook text might cri result sch...</td>\n",
       "    </tr>\n",
       "    <tr>\n",
       "      <th>2</th>\n",
       "      <td>0</td>\n",
       "      <td>1467810917</td>\n",
       "      <td>Mon Apr 06 22:19:53 PDT 2009</td>\n",
       "      <td>NO_QUERY</td>\n",
       "      <td>mattycus</td>\n",
       "      <td>@Kenichan I dived many times for the ball. Man...</td>\n",
       "      <td>kenichan dive mani time ball manag save rest g...</td>\n",
       "    </tr>\n",
       "    <tr>\n",
       "      <th>3</th>\n",
       "      <td>0</td>\n",
       "      <td>1467811184</td>\n",
       "      <td>Mon Apr 06 22:19:57 PDT 2009</td>\n",
       "      <td>NO_QUERY</td>\n",
       "      <td>ElleCTF</td>\n",
       "      <td>my whole body feels itchy and like its on fire</td>\n",
       "      <td>whole bodi feel itchi like fire</td>\n",
       "    </tr>\n",
       "    <tr>\n",
       "      <th>4</th>\n",
       "      <td>0</td>\n",
       "      <td>1467811193</td>\n",
       "      <td>Mon Apr 06 22:19:57 PDT 2009</td>\n",
       "      <td>NO_QUERY</td>\n",
       "      <td>Karoli</td>\n",
       "      <td>@nationwideclass no, it's not behaving at all....</td>\n",
       "      <td>nationwideclass behav mad see</td>\n",
       "    </tr>\n",
       "  </tbody>\n",
       "</table>\n",
       "</div>"
      ],
      "text/plain": [
       "   output          id                          date      flag  \\\n",
       "0       0  1467810369  Mon Apr 06 22:19:45 PDT 2009  NO_QUERY   \n",
       "1       0  1467810672  Mon Apr 06 22:19:49 PDT 2009  NO_QUERY   \n",
       "2       0  1467810917  Mon Apr 06 22:19:53 PDT 2009  NO_QUERY   \n",
       "3       0  1467811184  Mon Apr 06 22:19:57 PDT 2009  NO_QUERY   \n",
       "4       0  1467811193  Mon Apr 06 22:19:57 PDT 2009  NO_QUERY   \n",
       "\n",
       "              user                                               text  \\\n",
       "0  _TheSpecialOne_  @switchfoot http://twitpic.com/2y1zl - Awww, t...   \n",
       "1    scotthamilton  is upset that he can't update his Facebook by ...   \n",
       "2         mattycus  @Kenichan I dived many times for the ball. Man...   \n",
       "3          ElleCTF    my whole body feels itchy and like its on fire    \n",
       "4           Karoli  @nationwideclass no, it's not behaving at all....   \n",
       "\n",
       "                                        stemmed_text  \n",
       "0  switchfoot http twitpic com zl awww bummer sho...  \n",
       "1  upset updat facebook text might cri result sch...  \n",
       "2  kenichan dive mani time ball manag save rest g...  \n",
       "3                    whole bodi feel itchi like fire  \n",
       "4                      nationwideclass behav mad see  "
      ]
     },
     "execution_count": 18,
     "metadata": {},
     "output_type": "execute_result"
    }
   ],
   "source": [
    "data.head()"
   ]
  },
  {
   "cell_type": "code",
   "execution_count": 43,
   "metadata": {},
   "outputs": [],
   "source": [
    "X=data[\"stemmed_text\"].values\n",
    "Y=data[\"output\"].values"
   ]
  },
  {
   "cell_type": "code",
   "execution_count": 54,
   "metadata": {},
   "outputs": [],
   "source": [
    "x_train,x_test,y_train,y_test=train_test_split(X,Y,test_size=0.2, random_state=34)"
   ]
  },
  {
   "cell_type": "code",
   "execution_count": 55,
   "metadata": {},
   "outputs": [],
   "source": [
    "vectorizer = TfidfVectorizer(max_features=20000) \n",
    "x_train = vectorizer.fit_transform(x_train)\n",
    "x_test= vectorizer.transform(x_test)"
   ]
  },
  {
   "cell_type": "code",
   "execution_count": 53,
   "metadata": {},
   "outputs": [
    {
     "data": {
      "text/plain": [
       "11694"
      ]
     },
     "execution_count": 53,
     "metadata": {},
     "output_type": "execute_result"
    }
   ],
   "source": [
    "import gc\n",
    "\n",
    "del X_train, X_test\n",
    "gc.collect()  "
   ]
  },
  {
   "cell_type": "code",
   "execution_count": 60,
   "metadata": {},
   "outputs": [],
   "source": [
    "classification = LogisticRegression(max_iter=5000)"
   ]
  },
  {
   "cell_type": "code",
   "execution_count": 61,
   "metadata": {},
   "outputs": [],
   "source": [
    "classification= classification.fit(x_train,y_train)"
   ]
  },
  {
   "cell_type": "code",
   "execution_count": 62,
   "metadata": {},
   "outputs": [],
   "source": [
    "Y_pred=classification.predict(x_test)\n",
    "accuracy=accuracy_score(y_test,Y_pred)"
   ]
  },
  {
   "cell_type": "code",
   "execution_count": null,
   "metadata": {},
   "outputs": [],
   "source": []
  },
  {
   "cell_type": "code",
   "execution_count": 63,
   "metadata": {},
   "outputs": [
    {
     "name": "stdout",
     "output_type": "stream",
     "text": [
      "0.7733125\n"
     ]
    }
   ],
   "source": [
    "print(accuracy)"
   ]
  },
  {
   "cell_type": "code",
   "execution_count": 53,
   "metadata": {},
   "outputs": [],
   "source": [
    "import pickle"
   ]
  },
  {
   "cell_type": "code",
   "execution_count": 78,
   "metadata": {},
   "outputs": [],
   "source": [
    "filename = 'ML_model_16.sav'\n",
    "pickle.dump(classification,open(filename, 'wb'))"
   ]
  },
  {
   "cell_type": "code",
   "execution_count": 79,
   "metadata": {},
   "outputs": [],
   "source": [
    "filename_1='vectorizer.sav'\n",
    "pickle.dump(vectorizer,open(filename_1,'wb'))"
   ]
  },
  {
   "cell_type": "code",
   "execution_count": 57,
   "metadata": {},
   "outputs": [],
   "source": [
    "model=pickle.load(open('ML_model_16.sav','rb'))"
   ]
  },
  {
   "cell_type": "code",
   "execution_count": null,
   "metadata": {},
   "outputs": [],
   "source": [
    "inp = input(\"enter the sentiment: \")\n",
    "X= [inp]\n",
    "X= vectorizer.transform(X)\n",
    "pred= model.predict(X)\n",
    "if(pred[0]==0):\n",
    "    print('Negative Sentiment')\n",
    "else:\n",
    "    print('Positive Sentiment')"
   ]
  },
  {
   "cell_type": "code",
   "execution_count": 85,
   "metadata": {},
   "outputs": [],
   "source": [
    "import seaborn as sns\n",
    "import matplotlib.pyplot as plt"
   ]
  },
  {
   "cell_type": "code",
   "execution_count": 90,
   "metadata": {},
   "outputs": [],
   "source": [
    "from sklearn.metrics import confusion_matrix, accuracy_score\n",
    "cm= confusion_matrix(Y_test,Y_pred,labels=[0,1])"
   ]
  },
  {
   "cell_type": "code",
   "execution_count": 102,
   "metadata": {},
   "outputs": [
    {
     "data": {
      "image/png": "[encoded data removed]",
      "text/plain": [
       "<Figure size 640x480 with 2 Axes>"
      ]
     },
     "metadata": {},
     "output_type": "display_data"
    }
   ],
   "source": [
    "sns.heatmap(cm, annot=True, fmt='d', xticklabels=['Negative', 'Positive'], yticklabels=['Negative', 'Positive'])\n",
    "plt.xlabel('Predicted Labels')\n",
    "plt.ylabel('True Labels')\n",
    "plt.title('Confusion Matrix')\n",
    "plt.show()"
   ]
  },
  {
   "cell_type": "code",
   "execution_count": null,
   "metadata": {},
   "outputs": [],
   "source": []
  }
 ],
 "metadata": {
  "kernelspec": {
   "display_name": "Python 3 (ipykernel)",
   "language": "python",
   "name": "python3"
  },
  "language_info": {
   "codemirror_mode": {
    "name": "ipython",
    "version": 3
   },
   "file_extension": ".py",
   "mimetype": "text/x-python",
   "name": "python",
   "nbconvert_exporter": "python",
   "pygments_lexer": "ipython3",
   "version": "3.9.13"
  }
 },
 "nbformat": 4,
 "nbformat_minor": 4
}
