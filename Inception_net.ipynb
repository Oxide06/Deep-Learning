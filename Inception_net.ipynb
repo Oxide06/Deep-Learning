{
 "cells": [
  {
   "cell_type": "code",
   "execution_count": 3,
   "id": "7385033b-7312-47fd-89dd-22213631aff3",
   "metadata": {},
   "outputs": [],
   "source": [
    "import tensorflow as tf\n",
    "import tensorflow.keras.layers as tfl"
   ]
  },
  {
   "cell_type": "code",
   "execution_count": 18,
   "id": "485120e8-1c9e-48c2-8943-561308e35811",
   "metadata": {},
   "outputs": [],
   "source": [
    "class CNNBlock(tfl.Layer):\n",
    "    def __init__(self, out, **kwargs):\n",
    "        super().__init__()\n",
    "        self.relu=tfl.ReLU()\n",
    "        self.conv=tfl.Conv2D(out,**kwargs)\n",
    "        self.bn=tfl.BatchNormalization()\n",
    "    def call(self,x,training=False):\n",
    "        x = self.conv(x, training = training)\n",
    "        x = self.bn(x, training=training)\n",
    "        x = self.relu(x)\n",
    "        return x"
   ]
  },
  {
   "cell_type": "code",
   "execution_count": 36,
   "id": "538a36b9-22ab-4b7f-9441-6854e63ee1ae",
   "metadata": {},
   "outputs": [],
   "source": [
    "class Inception(tfl.Layer):\n",
    "    def __init__(self,o_1x1,r_3x3,o_3x3,r_5x5,o_5x5,pool):\n",
    "        super().__init__()\n",
    "        self.b1=CNNBlock(o_1x1,kernel_size=1,strides=1)\n",
    "        self.b2=tf.keras.Sequential([\n",
    "            CNNBlock(r_3x3,kernel_size=1,strides=1),\n",
    "            CNNBlock(o_3x3,kernel_size=3,strides=1,padding='same')\n",
    "        ])\n",
    "        self.b3=tf.keras.Sequential([\n",
    "            CNNBlock(r_5x5,kernel_size=1,strides=1),\n",
    "            CNNBlock(o_5x5,kernel_size=5,strides=1,padding='same')\n",
    "        ])\n",
    "        self.b4=tf.keras.Sequential([\n",
    "            tfl.MaxPooling2D(pool_size=(3,3),strides=1,padding='same'),\n",
    "            CNNBlock(pool,kernel_size=1,strides=1)\n",
    "        ])\n",
    "    def call(self,x,training= False):\n",
    "        x=tf.concat([\n",
    "            self.b1(x,training=False),\n",
    "            self.b2(x,training=False),\n",
    "            self.b3(x,training=False),\n",
    "            self.b4(x,training=False)\n",
    "        ],axis=-1)\n",
    "        return x"
   ]
  },
  {
   "cell_type": "code",
   "execution_count": 31,
   "id": "8ed7bbd4-7a32-4d8f-95b0-bcb8b4715ec8",
   "metadata": {},
   "outputs": [],
   "source": [
    "class GoogLeNet(tf.keras.Model):\n",
    "    def __init__(self,classes=1000):\n",
    "        super().__init__()\n",
    "        self.conv1=CNNBlock(64,kernel_size=7,strides=2,padding='same')\n",
    "        self.maxpool1=tfl.MaxPooling2D(pool_size=(3,3),strides=2,padding='same')\n",
    "        self.convblock1=tf.keras.Sequential([\n",
    "            self.conv1,\n",
    "            self.maxpool1\n",
    "        ])\n",
    "        self.convblock2= tf.keras.Sequential([\n",
    "            CNNBlock(64,kernel_size=1,strides=1,padding='same'),\n",
    "            CNNBlock(192,kernel_size=3,strides=1,padding='same'),\n",
    "            tfl.MaxPooling2D(pool_size=(3,3), strides=2, padding='same')\n",
    "        ])\n",
    "\n",
    "        self.inception3a = Inception(64,96,128,16,32,32)\n",
    "        self.inception3b = Inception(128,128,192,32,96,64)\n",
    "        self.maxpool3 = tfl.MaxPooling2D(pool_size=(3,3),strides=2,padding= 'same')\n",
    "\n",
    "        self.inception4a = Inception(192,96,208,16,48,64)\n",
    "        self.inception4b = Inception(160,112,224,24,64,64)\n",
    "        self.inception4c = Inception(128,128,256,24,64,64)\n",
    "        self.inception4d = Inception(112,144,288,32,64,64)\n",
    "        self.inception4e = Inception(256,160,320,32,128,128)\n",
    "        self.maxpool4 = tfl.MaxPooling2D(pool_size=(3,3),strides=2,padding= 'same')\n",
    "\n",
    "        self.inception5a = Inception(256, 160, 320, 32, 128, 128)\n",
    "        self.inception5b = Inception(384, 192, 384, 48, 128, 128)\n",
    "        \n",
    "        self.avgpool = tfl.GlobalAveragePooling2D()\n",
    "        self.dropout = tfl.Dropout(0.4)\n",
    "        self.dense = tfl.Dense(classes,activation='softmax')\n",
    "\n",
    "    def call(self,x,training=False):\n",
    "        x = self.convblock1(x, training=training)\n",
    "        x = self.convblock2(x, training=training)\n",
    "        \n",
    "        x = self.inception3a(x, training=training)\n",
    "        x = self.inception3b(x, training=training)\n",
    "        x = self.maxpool3(x)\n",
    "\n",
    "        x = self.inception4a(x, training=training)\n",
    "        x = self.inception4b(x, training=training)\n",
    "        x = self.inception4c(x, training=training)\n",
    "        x = self.inception4d(x, training=training)\n",
    "        x = self.inception4e(x, training=training)\n",
    "        x = self.maxpool4(x)\n",
    "\n",
    "        x = self.inception5a(x, training=training)\n",
    "        x = self.inception5b(x, training=training)\n",
    "\n",
    "        x = self.avgpool(x)\n",
    "        x = self.dropout(x, training=training)\n",
    "        x = self.dense(x)\n",
    "        return x"
   ]
  },
  {
   "cell_type": "code",
   "execution_count": 12,
   "id": "9d476630-4b74-4ea0-8be4-fb78db0474c6",
   "metadata": {},
   "outputs": [],
   "source": [
    "(x_train,y_train),(x_test,y_test) = tf.keras.datasets.cifar10.load_data()"
   ]
  },
  {
   "cell_type": "code",
   "execution_count": 9,
   "id": "6cc205fa-8963-4eba-b75e-978ca1e49960",
   "metadata": {},
   "outputs": [],
   "source": [
    "import numpy as np"
   ]
  },
  {
   "cell_type": "code",
   "execution_count": 10,
   "id": "067ee5fb-e680-49d2-89a7-a1292be8547a",
   "metadata": {},
   "outputs": [
    {
     "data": {
      "text/plain": [
       "(50000, 32, 32, 3)"
      ]
     },
     "execution_count": 10,
     "metadata": {},
     "output_type": "execute_result"
    }
   ],
   "source": [
    "x_train.shape"
   ]
  },
  {
   "cell_type": "code",
   "execution_count": 13,
   "id": "88946009-7c24-44ca-a047-a8aa268308ba",
   "metadata": {},
   "outputs": [
    {
     "ename": "NameError",
     "evalue": "name 'preprocess' is not defined",
     "output_type": "error",
     "traceback": [
      "\u001b[1;31m---------------------------------------------------------------------------\u001b[0m",
      "\u001b[1;31mNameError\u001b[0m                                 Traceback (most recent call last)",
      "Cell \u001b[1;32mIn[13], line 15\u001b[0m\n\u001b[0;32m      9\u001b[0m \u001b[38;5;28;01mdef\u001b[39;00m \u001b[38;5;21mcreate_dataset\u001b[39m(x, y):\n\u001b[0;32m     10\u001b[0m     \u001b[38;5;28;01mreturn\u001b[39;00m (tf\u001b[38;5;241m.\u001b[39mdata\u001b[38;5;241m.\u001b[39mDataset\u001b[38;5;241m.\u001b[39mfrom_tensor_slices((x, y))\n\u001b[0;32m     11\u001b[0m             \u001b[38;5;241m.\u001b[39mmap(preprocess)\n\u001b[0;32m     12\u001b[0m             \u001b[38;5;241m.\u001b[39mbatch(BATCH_SIZE)\n\u001b[0;32m     13\u001b[0m             \u001b[38;5;241m.\u001b[39mprefetch(tf\u001b[38;5;241m.\u001b[39mdata\u001b[38;5;241m.\u001b[39mAUTOTUNE))\n\u001b[1;32m---> 15\u001b[0m train_ds \u001b[38;5;241m=\u001b[39m \u001b[43mcreate_dataset\u001b[49m\u001b[43m(\u001b[49m\u001b[43mx_train\u001b[49m\u001b[43m,\u001b[49m\u001b[43m \u001b[49m\u001b[43my_train\u001b[49m\u001b[43m)\u001b[49m\n\u001b[0;32m     16\u001b[0m test_ds \u001b[38;5;241m=\u001b[39m create_dataset(x_test, y_test)\n",
      "Cell \u001b[1;32mIn[13], line 11\u001b[0m, in \u001b[0;36mcreate_dataset\u001b[1;34m(x, y)\u001b[0m\n\u001b[0;32m      9\u001b[0m \u001b[38;5;28;01mdef\u001b[39;00m \u001b[38;5;21mcreate_dataset\u001b[39m(x, y):\n\u001b[0;32m     10\u001b[0m     \u001b[38;5;28;01mreturn\u001b[39;00m (tf\u001b[38;5;241m.\u001b[39mdata\u001b[38;5;241m.\u001b[39mDataset\u001b[38;5;241m.\u001b[39mfrom_tensor_slices((x, y))\n\u001b[1;32m---> 11\u001b[0m             \u001b[38;5;241m.\u001b[39mmap(\u001b[43mpreprocess\u001b[49m)\n\u001b[0;32m     12\u001b[0m             \u001b[38;5;241m.\u001b[39mbatch(BATCH_SIZE)\n\u001b[0;32m     13\u001b[0m             \u001b[38;5;241m.\u001b[39mprefetch(tf\u001b[38;5;241m.\u001b[39mdata\u001b[38;5;241m.\u001b[39mAUTOTUNE))\n",
      "\u001b[1;31mNameError\u001b[0m: name 'preprocess' is not defined"
     ]
    }
   ],
   "source": [
    "def resize_img(image,label):\n",
    "    image = tf.image.resize(image, (96, 96))\n",
    "    image = tf.cast(image, tf.float32) / 255.0  \n",
    "    label = tf.squeeze(label)  \n",
    "    return image, label\n",
    "\n",
    "BATCH_SIZE = 64\n",
    "\n",
    "def create_dataset(x, y):\n",
    "    return (tf.data.Dataset.from_tensor_slices((x, y))\n",
    "            .map(resize_img)\n",
    "            .batch(BATCH_SIZE)\n",
    "            .prefetch(tf.data.AUTOTUNE))\n",
    "\n",
    "train_ds = create_dataset(x_train, y_train)\n",
    "test_ds = create_dataset(x_test, y_test)\n"
   ]
  },
  {
   "cell_type": "code",
   "execution_count": 37,
   "id": "1e174c6b-8130-4750-aff8-69d5f76712e9",
   "metadata": {},
   "outputs": [
    {
     "data": {
      "text/html": [
       "<pre style=\"white-space:pre;overflow-x:auto;line-height:normal;font-family:Menlo,'DejaVu Sans Mono',consolas,'Courier New',monospace\"><span style=\"font-weight: bold\">Model: \"goog_le_net_10\"</span>\n",
       "</pre>\n"
      ],
      "text/plain": [
       "\u001b[1mModel: \"goog_le_net_10\"\u001b[0m\n"
      ]
     },
     "metadata": {},
     "output_type": "display_data"
    },
    {
     "data": {
      "text/html": [
       "<pre style=\"white-space:pre;overflow-x:auto;line-height:normal;font-family:Menlo,'DejaVu Sans Mono',consolas,'Courier New',monospace\">┏━━━━━━━━━━━━━━━━━━━━━━━━━━━━━━━━━━━━━━┳━━━━━━━━━━━━━━━━━━━━━━━━━━━━━┳━━━━━━━━━━━━━━━━━┓\n",
       "┃<span style=\"font-weight: bold\"> Layer (type)                         </span>┃<span style=\"font-weight: bold\"> Output Shape                </span>┃<span style=\"font-weight: bold\">         Param # </span>┃\n",
       "┡━━━━━━━━━━━━━━━━━━━━━━━━━━━━━━━━━━━━━━╇━━━━━━━━━━━━━━━━━━━━━━━━━━━━━╇━━━━━━━━━━━━━━━━━┩\n",
       "│ cnn_block_570 (<span style=\"color: #0087ff; text-decoration-color: #0087ff\">CNNBlock</span>)             │ (<span style=\"color: #00af00; text-decoration-color: #00af00\">1</span>, <span style=\"color: #00af00; text-decoration-color: #00af00\">112</span>, <span style=\"color: #00af00; text-decoration-color: #00af00\">112</span>, <span style=\"color: #00af00; text-decoration-color: #00af00\">64</span>)           │           <span style=\"color: #00af00; text-decoration-color: #00af00\">9,728</span> │\n",
       "├──────────────────────────────────────┼─────────────────────────────┼─────────────────┤\n",
       "│ max_pooling2d_130 (<span style=\"color: #0087ff; text-decoration-color: #0087ff\">MaxPooling2D</span>)     │ (<span style=\"color: #00af00; text-decoration-color: #00af00\">1</span>, <span style=\"color: #00af00; text-decoration-color: #00af00\">56</span>, <span style=\"color: #00af00; text-decoration-color: #00af00\">56</span>, <span style=\"color: #00af00; text-decoration-color: #00af00\">64</span>)             │               <span style=\"color: #00af00; text-decoration-color: #00af00\">0</span> │\n",
       "├──────────────────────────────────────┼─────────────────────────────┼─────────────────┤\n",
       "│ sequential_290 (<span style=\"color: #0087ff; text-decoration-color: #0087ff\">Sequential</span>)          │ (<span style=\"color: #00af00; text-decoration-color: #00af00\">1</span>, <span style=\"color: #00af00; text-decoration-color: #00af00\">56</span>, <span style=\"color: #00af00; text-decoration-color: #00af00\">56</span>, <span style=\"color: #00af00; text-decoration-color: #00af00\">64</span>)             │           <span style=\"color: #00af00; text-decoration-color: #00af00\">9,728</span> │\n",
       "├──────────────────────────────────────┼─────────────────────────────┼─────────────────┤\n",
       "│ sequential_291 (<span style=\"color: #0087ff; text-decoration-color: #0087ff\">Sequential</span>)          │ (<span style=\"color: #00af00; text-decoration-color: #00af00\">1</span>, <span style=\"color: #00af00; text-decoration-color: #00af00\">28</span>, <span style=\"color: #00af00; text-decoration-color: #00af00\">28</span>, <span style=\"color: #00af00; text-decoration-color: #00af00\">192</span>)            │         <span style=\"color: #00af00; text-decoration-color: #00af00\">115,968</span> │\n",
       "├──────────────────────────────────────┼─────────────────────────────┼─────────────────┤\n",
       "│ inception_90 (<span style=\"color: #0087ff; text-decoration-color: #0087ff\">Inception</span>)             │ ?                           │         <span style=\"color: #00af00; text-decoration-color: #00af00\">165,168</span> │\n",
       "├──────────────────────────────────────┼─────────────────────────────┼─────────────────┤\n",
       "│ inception_91 (<span style=\"color: #0087ff; text-decoration-color: #0087ff\">Inception</span>)             │ ?                           │         <span style=\"color: #00af00; text-decoration-color: #00af00\">391,296</span> │\n",
       "├──────────────────────────────────────┼─────────────────────────────┼─────────────────┤\n",
       "│ max_pooling2d_134 (<span style=\"color: #0087ff; text-decoration-color: #0087ff\">MaxPooling2D</span>)     │ ?                           │               <span style=\"color: #00af00; text-decoration-color: #00af00\">0</span> │\n",
       "├──────────────────────────────────────┼─────────────────────────────┼─────────────────┤\n",
       "│ inception_92 (<span style=\"color: #0087ff; text-decoration-color: #0087ff\">Inception</span>)             │ ?                           │         <span style=\"color: #00af00; text-decoration-color: #00af00\">378,672</span> │\n",
       "├──────────────────────────────────────┼─────────────────────────────┼─────────────────┤\n",
       "│ inception_93 (<span style=\"color: #0087ff; text-decoration-color: #0087ff\">Inception</span>)             │ ?                           │         <span style=\"color: #00af00; text-decoration-color: #00af00\">451,752</span> │\n",
       "├──────────────────────────────────────┼─────────────────────────────┼─────────────────┤\n",
       "│ inception_94 (<span style=\"color: #0087ff; text-decoration-color: #0087ff\">Inception</span>)             │ ?                           │         <span style=\"color: #00af00; text-decoration-color: #00af00\">512,760</span> │\n",
       "├──────────────────────────────────────┼─────────────────────────────┼─────────────────┤\n",
       "│ inception_95 (<span style=\"color: #0087ff; text-decoration-color: #0087ff\">Inception</span>)             │ ?                           │         <span style=\"color: #00af00; text-decoration-color: #00af00\">608,192</span> │\n",
       "├──────────────────────────────────────┼─────────────────────────────┼─────────────────┤\n",
       "│ inception_96 (<span style=\"color: #0087ff; text-decoration-color: #0087ff\">Inception</span>)             │ ?                           │         <span style=\"color: #00af00; text-decoration-color: #00af00\">872,448</span> │\n",
       "├──────────────────────────────────────┼─────────────────────────────┼─────────────────┤\n",
       "│ max_pooling2d_140 (<span style=\"color: #0087ff; text-decoration-color: #0087ff\">MaxPooling2D</span>)     │ ?                           │               <span style=\"color: #00af00; text-decoration-color: #00af00\">0</span> │\n",
       "├──────────────────────────────────────┼─────────────────────────────┼─────────────────┤\n",
       "│ inception_97 (<span style=\"color: #0087ff; text-decoration-color: #0087ff\">Inception</span>)             │ ?                           │       <span style=\"color: #00af00; text-decoration-color: #00af00\">1,047,552</span> │\n",
       "├──────────────────────────────────────┼─────────────────────────────┼─────────────────┤\n",
       "│ inception_98 (<span style=\"color: #0087ff; text-decoration-color: #0087ff\">Inception</span>)             │ ?                           │       <span style=\"color: #00af00; text-decoration-color: #00af00\">1,449,136</span> │\n",
       "├──────────────────────────────────────┼─────────────────────────────┼─────────────────┤\n",
       "│ global_average_pooling2d_10          │ ?                           │               <span style=\"color: #00af00; text-decoration-color: #00af00\">0</span> │\n",
       "│ (<span style=\"color: #0087ff; text-decoration-color: #0087ff\">GlobalAveragePooling2D</span>)             │                             │                 │\n",
       "├──────────────────────────────────────┼─────────────────────────────┼─────────────────┤\n",
       "│ dropout_10 (<span style=\"color: #0087ff; text-decoration-color: #0087ff\">Dropout</span>)                 │ ?                           │               <span style=\"color: #00af00; text-decoration-color: #00af00\">0</span> │\n",
       "├──────────────────────────────────────┼─────────────────────────────┼─────────────────┤\n",
       "│ dense_10 (<span style=\"color: #0087ff; text-decoration-color: #0087ff\">Dense</span>)                     │ (<span style=\"color: #00af00; text-decoration-color: #00af00\">1</span>, <span style=\"color: #00af00; text-decoration-color: #00af00\">10</span>)                     │          <span style=\"color: #00af00; text-decoration-color: #00af00\">10,250</span> │\n",
       "└──────────────────────────────────────┴─────────────────────────────┴─────────────────┘\n",
       "</pre>\n"
      ],
      "text/plain": [
       "┏━━━━━━━━━━━━━━━━━━━━━━━━━━━━━━━━━━━━━━┳━━━━━━━━━━━━━━━━━━━━━━━━━━━━━┳━━━━━━━━━━━━━━━━━┓\n",
       "┃\u001b[1m \u001b[0m\u001b[1mLayer (type)                        \u001b[0m\u001b[1m \u001b[0m┃\u001b[1m \u001b[0m\u001b[1mOutput Shape               \u001b[0m\u001b[1m \u001b[0m┃\u001b[1m \u001b[0m\u001b[1m        Param #\u001b[0m\u001b[1m \u001b[0m┃\n",
       "┡━━━━━━━━━━━━━━━━━━━━━━━━━━━━━━━━━━━━━━╇━━━━━━━━━━━━━━━━━━━━━━━━━━━━━╇━━━━━━━━━━━━━━━━━┩\n",
       "│ cnn_block_570 (\u001b[38;5;33mCNNBlock\u001b[0m)             │ (\u001b[38;5;34m1\u001b[0m, \u001b[38;5;34m112\u001b[0m, \u001b[38;5;34m112\u001b[0m, \u001b[38;5;34m64\u001b[0m)           │           \u001b[38;5;34m9,728\u001b[0m │\n",
       "├──────────────────────────────────────┼─────────────────────────────┼─────────────────┤\n",
       "│ max_pooling2d_130 (\u001b[38;5;33mMaxPooling2D\u001b[0m)     │ (\u001b[38;5;34m1\u001b[0m, \u001b[38;5;34m56\u001b[0m, \u001b[38;5;34m56\u001b[0m, \u001b[38;5;34m64\u001b[0m)             │               \u001b[38;5;34m0\u001b[0m │\n",
       "├──────────────────────────────────────┼─────────────────────────────┼─────────────────┤\n",
       "│ sequential_290 (\u001b[38;5;33mSequential\u001b[0m)          │ (\u001b[38;5;34m1\u001b[0m, \u001b[38;5;34m56\u001b[0m, \u001b[38;5;34m56\u001b[0m, \u001b[38;5;34m64\u001b[0m)             │           \u001b[38;5;34m9,728\u001b[0m │\n",
       "├──────────────────────────────────────┼─────────────────────────────┼─────────────────┤\n",
       "│ sequential_291 (\u001b[38;5;33mSequential\u001b[0m)          │ (\u001b[38;5;34m1\u001b[0m, \u001b[38;5;34m28\u001b[0m, \u001b[38;5;34m28\u001b[0m, \u001b[38;5;34m192\u001b[0m)            │         \u001b[38;5;34m115,968\u001b[0m │\n",
       "├──────────────────────────────────────┼─────────────────────────────┼─────────────────┤\n",
       "│ inception_90 (\u001b[38;5;33mInception\u001b[0m)             │ ?                           │         \u001b[38;5;34m165,168\u001b[0m │\n",
       "├──────────────────────────────────────┼─────────────────────────────┼─────────────────┤\n",
       "│ inception_91 (\u001b[38;5;33mInception\u001b[0m)             │ ?                           │         \u001b[38;5;34m391,296\u001b[0m │\n",
       "├──────────────────────────────────────┼─────────────────────────────┼─────────────────┤\n",
       "│ max_pooling2d_134 (\u001b[38;5;33mMaxPooling2D\u001b[0m)     │ ?                           │               \u001b[38;5;34m0\u001b[0m │\n",
       "├──────────────────────────────────────┼─────────────────────────────┼─────────────────┤\n",
       "│ inception_92 (\u001b[38;5;33mInception\u001b[0m)             │ ?                           │         \u001b[38;5;34m378,672\u001b[0m │\n",
       "├──────────────────────────────────────┼─────────────────────────────┼─────────────────┤\n",
       "│ inception_93 (\u001b[38;5;33mInception\u001b[0m)             │ ?                           │         \u001b[38;5;34m451,752\u001b[0m │\n",
       "├──────────────────────────────────────┼─────────────────────────────┼─────────────────┤\n",
       "│ inception_94 (\u001b[38;5;33mInception\u001b[0m)             │ ?                           │         \u001b[38;5;34m512,760\u001b[0m │\n",
       "├──────────────────────────────────────┼─────────────────────────────┼─────────────────┤\n",
       "│ inception_95 (\u001b[38;5;33mInception\u001b[0m)             │ ?                           │         \u001b[38;5;34m608,192\u001b[0m │\n",
       "├──────────────────────────────────────┼─────────────────────────────┼─────────────────┤\n",
       "│ inception_96 (\u001b[38;5;33mInception\u001b[0m)             │ ?                           │         \u001b[38;5;34m872,448\u001b[0m │\n",
       "├──────────────────────────────────────┼─────────────────────────────┼─────────────────┤\n",
       "│ max_pooling2d_140 (\u001b[38;5;33mMaxPooling2D\u001b[0m)     │ ?                           │               \u001b[38;5;34m0\u001b[0m │\n",
       "├──────────────────────────────────────┼─────────────────────────────┼─────────────────┤\n",
       "│ inception_97 (\u001b[38;5;33mInception\u001b[0m)             │ ?                           │       \u001b[38;5;34m1,047,552\u001b[0m │\n",
       "├──────────────────────────────────────┼─────────────────────────────┼─────────────────┤\n",
       "│ inception_98 (\u001b[38;5;33mInception\u001b[0m)             │ ?                           │       \u001b[38;5;34m1,449,136\u001b[0m │\n",
       "├──────────────────────────────────────┼─────────────────────────────┼─────────────────┤\n",
       "│ global_average_pooling2d_10          │ ?                           │               \u001b[38;5;34m0\u001b[0m │\n",
       "│ (\u001b[38;5;33mGlobalAveragePooling2D\u001b[0m)             │                             │                 │\n",
       "├──────────────────────────────────────┼─────────────────────────────┼─────────────────┤\n",
       "│ dropout_10 (\u001b[38;5;33mDropout\u001b[0m)                 │ ?                           │               \u001b[38;5;34m0\u001b[0m │\n",
       "├──────────────────────────────────────┼─────────────────────────────┼─────────────────┤\n",
       "│ dense_10 (\u001b[38;5;33mDense\u001b[0m)                     │ (\u001b[38;5;34m1\u001b[0m, \u001b[38;5;34m10\u001b[0m)                     │          \u001b[38;5;34m10,250\u001b[0m │\n",
       "└──────────────────────────────────────┴─────────────────────────────┴─────────────────┘\n"
      ]
     },
     "metadata": {},
     "output_type": "display_data"
    },
    {
     "data": {
      "text/html": [
       "<pre style=\"white-space:pre;overflow-x:auto;line-height:normal;font-family:Menlo,'DejaVu Sans Mono',consolas,'Courier New',monospace\"><span style=\"font-weight: bold\"> Total params: </span><span style=\"color: #00af00; text-decoration-color: #00af00\">6,012,922</span> (22.94 MB)\n",
       "</pre>\n"
      ],
      "text/plain": [
       "\u001b[1m Total params: \u001b[0m\u001b[38;5;34m6,012,922\u001b[0m (22.94 MB)\n"
      ]
     },
     "metadata": {},
     "output_type": "display_data"
    },
    {
     "data": {
      "text/html": [
       "<pre style=\"white-space:pre;overflow-x:auto;line-height:normal;font-family:Menlo,'DejaVu Sans Mono',consolas,'Courier New',monospace\"><span style=\"font-weight: bold\"> Trainable params: </span><span style=\"color: #00af00; text-decoration-color: #00af00\">5,998,362</span> (22.88 MB)\n",
       "</pre>\n"
      ],
      "text/plain": [
       "\u001b[1m Trainable params: \u001b[0m\u001b[38;5;34m5,998,362\u001b[0m (22.88 MB)\n"
      ]
     },
     "metadata": {},
     "output_type": "display_data"
    },
    {
     "data": {
      "text/html": [
       "<pre style=\"white-space:pre;overflow-x:auto;line-height:normal;font-family:Menlo,'DejaVu Sans Mono',consolas,'Courier New',monospace\"><span style=\"font-weight: bold\"> Non-trainable params: </span><span style=\"color: #00af00; text-decoration-color: #00af00\">14,560</span> (56.88 KB)\n",
       "</pre>\n"
      ],
      "text/plain": [
       "\u001b[1m Non-trainable params: \u001b[0m\u001b[38;5;34m14,560\u001b[0m (56.88 KB)\n"
      ]
     },
     "metadata": {},
     "output_type": "display_data"
    }
   ],
   "source": [
    "model = GoogLeNet(classes=10)\n",
    "dummy_input = tf.random.normal([1, 224, 224, 3])\n",
    "model(dummy_input)  # Build the model fully\n",
    "model.summary()\n"
   ]
  },
  {
   "cell_type": "code",
   "execution_count": 38,
   "id": "b7323218-3182-45dd-b4e2-ebfb382752de",
   "metadata": {},
   "outputs": [
    {
     "data": {
      "text/html": [
       "<pre style=\"white-space:pre;overflow-x:auto;line-height:normal;font-family:Menlo,'DejaVu Sans Mono',consolas,'Courier New',monospace\"><span style=\"font-weight: bold\">Model: \"functional_265\"</span>\n",
       "</pre>\n"
      ],
      "text/plain": [
       "\u001b[1mModel: \"functional_265\"\u001b[0m\n"
      ]
     },
     "metadata": {},
     "output_type": "display_data"
    },
    {
     "data": {
      "text/html": [
       "<pre style=\"white-space:pre;overflow-x:auto;line-height:normal;font-family:Menlo,'DejaVu Sans Mono',consolas,'Courier New',monospace\">┏━━━━━━━━━━━━━━━━━━━━━━━━━━━━━━━━━━━━━━┳━━━━━━━━━━━━━━━━━━━━━━━━━━━━━┳━━━━━━━━━━━━━━━━━┓\n",
       "┃<span style=\"font-weight: bold\"> Layer (type)                         </span>┃<span style=\"font-weight: bold\"> Output Shape                </span>┃<span style=\"font-weight: bold\">         Param # </span>┃\n",
       "┡━━━━━━━━━━━━━━━━━━━━━━━━━━━━━━━━━━━━━━╇━━━━━━━━━━━━━━━━━━━━━━━━━━━━━╇━━━━━━━━━━━━━━━━━┩\n",
       "│ input_layer_236 (<span style=\"color: #0087ff; text-decoration-color: #0087ff\">InputLayer</span>)         │ (<span style=\"color: #00d7ff; text-decoration-color: #00d7ff\">None</span>, <span style=\"color: #00af00; text-decoration-color: #00af00\">224</span>, <span style=\"color: #00af00; text-decoration-color: #00af00\">224</span>, <span style=\"color: #00af00; text-decoration-color: #00af00\">3</span>)         │               <span style=\"color: #00af00; text-decoration-color: #00af00\">0</span> │\n",
       "├──────────────────────────────────────┼─────────────────────────────┼─────────────────┤\n",
       "│ goog_le_net_11 (<span style=\"color: #0087ff; text-decoration-color: #0087ff\">GoogLeNet</span>)           │ (<span style=\"color: #00d7ff; text-decoration-color: #00d7ff\">None</span>, <span style=\"color: #00af00; text-decoration-color: #00af00\">1000</span>)                │       <span style=\"color: #00af00; text-decoration-color: #00af00\">7,027,672</span> │\n",
       "└──────────────────────────────────────┴─────────────────────────────┴─────────────────┘\n",
       "</pre>\n"
      ],
      "text/plain": [
       "┏━━━━━━━━━━━━━━━━━━━━━━━━━━━━━━━━━━━━━━┳━━━━━━━━━━━━━━━━━━━━━━━━━━━━━┳━━━━━━━━━━━━━━━━━┓\n",
       "┃\u001b[1m \u001b[0m\u001b[1mLayer (type)                        \u001b[0m\u001b[1m \u001b[0m┃\u001b[1m \u001b[0m\u001b[1mOutput Shape               \u001b[0m\u001b[1m \u001b[0m┃\u001b[1m \u001b[0m\u001b[1m        Param #\u001b[0m\u001b[1m \u001b[0m┃\n",
       "┡━━━━━━━━━━━━━━━━━━━━━━━━━━━━━━━━━━━━━━╇━━━━━━━━━━━━━━━━━━━━━━━━━━━━━╇━━━━━━━━━━━━━━━━━┩\n",
       "│ input_layer_236 (\u001b[38;5;33mInputLayer\u001b[0m)         │ (\u001b[38;5;45mNone\u001b[0m, \u001b[38;5;34m224\u001b[0m, \u001b[38;5;34m224\u001b[0m, \u001b[38;5;34m3\u001b[0m)         │               \u001b[38;5;34m0\u001b[0m │\n",
       "├──────────────────────────────────────┼─────────────────────────────┼─────────────────┤\n",
       "│ goog_le_net_11 (\u001b[38;5;33mGoogLeNet\u001b[0m)           │ (\u001b[38;5;45mNone\u001b[0m, \u001b[38;5;34m1000\u001b[0m)                │       \u001b[38;5;34m7,027,672\u001b[0m │\n",
       "└──────────────────────────────────────┴─────────────────────────────┴─────────────────┘\n"
      ]
     },
     "metadata": {},
     "output_type": "display_data"
    },
    {
     "data": {
      "text/html": [
       "<pre style=\"white-space:pre;overflow-x:auto;line-height:normal;font-family:Menlo,'DejaVu Sans Mono',consolas,'Courier New',monospace\"><span style=\"font-weight: bold\"> Total params: </span><span style=\"color: #00af00; text-decoration-color: #00af00\">7,027,672</span> (26.81 MB)\n",
       "</pre>\n"
      ],
      "text/plain": [
       "\u001b[1m Total params: \u001b[0m\u001b[38;5;34m7,027,672\u001b[0m (26.81 MB)\n"
      ]
     },
     "metadata": {},
     "output_type": "display_data"
    },
    {
     "data": {
      "text/html": [
       "<pre style=\"white-space:pre;overflow-x:auto;line-height:normal;font-family:Menlo,'DejaVu Sans Mono',consolas,'Courier New',monospace\"><span style=\"font-weight: bold\"> Trainable params: </span><span style=\"color: #00af00; text-decoration-color: #00af00\">7,013,112</span> (26.75 MB)\n",
       "</pre>\n"
      ],
      "text/plain": [
       "\u001b[1m Trainable params: \u001b[0m\u001b[38;5;34m7,013,112\u001b[0m (26.75 MB)\n"
      ]
     },
     "metadata": {},
     "output_type": "display_data"
    },
    {
     "data": {
      "text/html": [
       "<pre style=\"white-space:pre;overflow-x:auto;line-height:normal;font-family:Menlo,'DejaVu Sans Mono',consolas,'Courier New',monospace\"><span style=\"font-weight: bold\"> Non-trainable params: </span><span style=\"color: #00af00; text-decoration-color: #00af00\">14,560</span> (56.88 KB)\n",
       "</pre>\n"
      ],
      "text/plain": [
       "\u001b[1m Non-trainable params: \u001b[0m\u001b[38;5;34m14,560\u001b[0m (56.88 KB)\n"
      ]
     },
     "metadata": {},
     "output_type": "display_data"
    }
   ],
   "source": [
    "model = GoogLeNet(classes=1000)\n",
    "dummy_input = tf.keras.Input(shape=(224, 224, 3))\n",
    "output = model(dummy_input)\n",
    "model_summary = tf.keras.Model(inputs=dummy_input, outputs=output)\n",
    "model_summary.summary()"
   ]
  },
  {
   "cell_type": "code",
   "execution_count": null,
   "id": "906b4c14-bf53-41f9-835e-53af2c43995d",
   "metadata": {},
   "outputs": [],
   "source": [
    "model.compile(\n",
    "    optimizer=tf.keras.optimizers.Adam(learning_rate=0.001),\n",
    "    loss=tf.keras.losses.SparseCategoricalCrossentropy(from_logits=True),\n",
    "    metrics=['accuracy']\n",
    ")"
   ]
  },
  {
   "cell_type": "code",
   "execution_count": null,
   "id": "699c9de6-182a-48e1-9ecd-d1ca6a619931",
   "metadata": {},
   "outputs": [],
   "source": [
    "history = model.fit(\n",
    "    train_ds,\n",
    "    validation_data=test_ds,\n",
    "    epochs=20\n",
    ")"
   ]
  },
  {
   "cell_type": "code",
   "execution_count": null,
   "id": "bb35094a-4ba3-42a4-96ac-3515addbdbf5",
   "metadata": {},
   "outputs": [],
   "source": [
    "model.save('Inception.h5')"
   ]
  }
 ],
 "metadata": {
  "kernelspec": {
   "display_name": "Python 3 (ipykernel)",
   "language": "python",
   "name": "python3"
  },
  "language_info": {
   "codemirror_mode": {
    "name": "ipython",
    "version": 3
   },
   "file_extension": ".py",
   "mimetype": "text/x-python",
   "name": "python",
   "nbconvert_exporter": "python",
   "pygments_lexer": "ipython3",
   "version": "3.9.13"
  }
 },
 "nbformat": 4,
 "nbformat_minor": 5
}
